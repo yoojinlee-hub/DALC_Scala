{
  "nbformat": 4,
  "nbformat_minor": 0,
  "metadata": {
    "colab": {
      "name": "Untitled7.ipynb",
      "provenance": [],
      "authorship_tag": "ABX9TyPtQ5tft5B6Q+4GnFdTKhrK",
      "include_colab_link": true
    },
    "kernelspec": {
      "name": "python3",
      "display_name": "Python 3"
    },
    "language_info": {
      "name": "python"
    }
  },
  "cells": [
    {
      "cell_type": "markdown",
      "metadata": {
        "id": "view-in-github",
        "colab_type": "text"
      },
      "source": [
        "<a href=\"https://colab.research.google.com/github/yoojinlee-hub/DALC_Scala/blob/main/Pandas_K-Mooc_%EA%B8%B0%EB%B3%B8.ipynb\" target=\"_parent\"><img src=\"https://colab.research.google.com/assets/colab-badge.svg\" alt=\"Open In Colab\"/></a>"
      ]
    },
    {
      "cell_type": "markdown",
      "metadata": {
        "id": "kcAYju5cb9bh"
      },
      "source": [
        "**Pandas(pd)로 데이터 가공하기**\n",
        "\n",
        "\n",
        "1.   파이썬 라이브러리\n",
        "2.   1차원의 Series, 2차원의 DataFrame 제공\n",
        "\n",
        "\n",
        "\n"
      ]
    },
    {
      "cell_type": "code",
      "metadata": {
        "colab": {
          "base_uri": "https://localhost:8080/",
          "height": 35
        },
        "id": "n-t8JBV2cZ0a",
        "outputId": "3619f637-4cc3-444e-88b3-87362c1a0848"
      },
      "source": [
        "import pandas\n",
        "pandas.__version__"
      ],
      "execution_count": 1,
      "outputs": [
        {
          "output_type": "execute_result",
          "data": {
            "application/vnd.google.colaboratory.intrinsic+json": {
              "type": "string"
            },
            "text/plain": [
              "'1.1.5'"
            ]
          },
          "metadata": {
            "tags": []
          },
          "execution_count": 1
        }
      ]
    },
    {
      "cell_type": "code",
      "metadata": {
        "id": "DYa5ebwScrfm"
      },
      "source": [
        "import numpy as np\n",
        "import pandas as pd"
      ],
      "execution_count": 2,
      "outputs": []
    },
    {
      "cell_type": "markdown",
      "metadata": {
        "id": "dUcKyY9rc2QB"
      },
      "source": [
        "**series** : 데이터가 순차적으로 나열, 인덱스와 일대응 대응됨/일차원/정수가 아니어도 됨"
      ]
    },
    {
      "cell_type": "markdown",
      "metadata": {
        "id": "t26RmJB-dD7B"
      },
      "source": [
        "**DataFrame**: 2차원배열구조, 행/열로 구성, 여러개의 시리즈가 모여 구성된 구조\n",
        "각 열이 시리즈를 나타냄, 여러개의 열 벡터들이 순서대로 결합됨-2개 주소 사용(행 인덱스,열 이름)"
      ]
    },
    {
      "cell_type": "code",
      "metadata": {
        "colab": {
          "base_uri": "https://localhost:8080/"
        },
        "id": "AVfBRe9-dfMK",
        "outputId": "4e0d06e5-37f0-4fe3-c9f3-7cd98c3e45e4"
      },
      "source": [
        "data = pd.Series([0.25,0.5,0.75,1.0])\n",
        "data"
      ],
      "execution_count": 4,
      "outputs": [
        {
          "output_type": "execute_result",
          "data": {
            "text/plain": [
              "0    0.25\n",
              "1    0.50\n",
              "2    0.75\n",
              "3    1.00\n",
              "dtype: float64"
            ]
          },
          "metadata": {
            "tags": []
          },
          "execution_count": 4
        }
      ]
    },
    {
      "cell_type": "code",
      "metadata": {
        "colab": {
          "base_uri": "https://localhost:8080/"
        },
        "id": "g67wmsBWduoS",
        "outputId": "f8e0de96-3116-4c65-a391-470234d8aff7"
      },
      "source": [
        "data.values\n",
        "data.index"
      ],
      "execution_count": 5,
      "outputs": [
        {
          "output_type": "execute_result",
          "data": {
            "text/plain": [
              "RangeIndex(start=0, stop=4, step=1)"
            ]
          },
          "metadata": {
            "tags": []
          },
          "execution_count": 5
        }
      ]
    },
    {
      "cell_type": "code",
      "metadata": {
        "colab": {
          "base_uri": "https://localhost:8080/"
        },
        "id": "_6YhF0LSd1tS",
        "outputId": "93510a0e-7ef8-4ae0-bf5f-e0b614065f3c"
      },
      "source": [
        "data[1:3]"
      ],
      "execution_count": 6,
      "outputs": [
        {
          "output_type": "execute_result",
          "data": {
            "text/plain": [
              "1    0.50\n",
              "2    0.75\n",
              "dtype: float64"
            ]
          },
          "metadata": {
            "tags": []
          },
          "execution_count": 6
        }
      ]
    },
    {
      "cell_type": "code",
      "metadata": {
        "id": "c3FgMGjZd6w7"
      },
      "source": [
        "index=['a','b','c','d']"
      ],
      "execution_count": 7,
      "outputs": []
    },
    {
      "cell_type": "code",
      "metadata": {
        "colab": {
          "base_uri": "https://localhost:8080/"
        },
        "id": "9hCGUaL2eJMi",
        "outputId": "836fbd8e-b7cd-4462-f546-23403af53830"
      },
      "source": [
        "data[2]"
      ],
      "execution_count": 8,
      "outputs": [
        {
          "output_type": "execute_result",
          "data": {
            "text/plain": [
              "0.75"
            ]
          },
          "metadata": {
            "tags": []
          },
          "execution_count": 8
        }
      ]
    },
    {
      "cell_type": "markdown",
      "metadata": {
        "id": "6emAESXOeRXx"
      },
      "source": [
        "**딕셔너리 구조**\n",
        "\n",
        "\n",
        "*   일련의 임의의 값에 임의의 키를 매핑\n",
        "*   타입이 지정된 키를 일련의 타입이 지정된 값에 매핑\n",
        "\n",
        "K는 Series의 인덱스.V는 데이터값\n",
        "\n"
      ]
    },
    {
      "cell_type": "code",
      "metadata": {
        "colab": {
          "base_uri": "https://localhost:8080/"
        },
        "id": "e8t_yHFaektq",
        "outputId": "0cd965f6-4079-4bc5-8c2e-8a8b996a7014"
      },
      "source": [
        "population_dict = {\n",
        "    'California': 38332521,\n",
        "    'Texas':26448393,\n",
        "    'New York':19651127,\n",
        "    'Florida':19552860,\n",
        "    'Illinois':12882135\n",
        "}\n",
        "population = pd.Series(population_dict)\n",
        "population"
      ],
      "execution_count": 11,
      "outputs": [
        {
          "output_type": "execute_result",
          "data": {
            "text/plain": [
              "California    38332521\n",
              "Texas         26448393\n",
              "New York      19651127\n",
              "Florida       19552860\n",
              "Illinois      12882135\n",
              "dtype: int64"
            ]
          },
          "metadata": {
            "tags": []
          },
          "execution_count": 11
        }
      ]
    },
    {
      "cell_type": "code",
      "metadata": {
        "colab": {
          "base_uri": "https://localhost:8080/"
        },
        "id": "14aOmu4hfJa6",
        "outputId": "9f9ccf7c-7180-4d94-c3a8-9bbbc2067b3f"
      },
      "source": [
        "population['California':'Illinois']"
      ],
      "execution_count": 12,
      "outputs": [
        {
          "output_type": "execute_result",
          "data": {
            "text/plain": [
              "California    38332521\n",
              "Texas         26448393\n",
              "New York      19651127\n",
              "Florida       19552860\n",
              "Illinois      12882135\n",
              "dtype: int64"
            ]
          },
          "metadata": {
            "tags": []
          },
          "execution_count": 12
        }
      ]
    },
    {
      "cell_type": "markdown",
      "metadata": {
        "id": "EyKmqA8mfS2Z"
      },
      "source": [
        "겍체 구성하기 : pd.Series(data,index=index)\n",
        "index는 생략가능"
      ]
    },
    {
      "cell_type": "code",
      "metadata": {
        "colab": {
          "base_uri": "https://localhost:8080/"
        },
        "id": "2bBHFW86fbAU",
        "outputId": "db29cf07-3efb-4fda-ed78-6c4784dba711"
      },
      "source": [
        "pd.Series([2,4,6])"
      ],
      "execution_count": 13,
      "outputs": [
        {
          "output_type": "execute_result",
          "data": {
            "text/plain": [
              "0    2\n",
              "1    4\n",
              "2    6\n",
              "dtype: int64"
            ]
          },
          "metadata": {
            "tags": []
          },
          "execution_count": 13
        }
      ]
    },
    {
      "cell_type": "code",
      "metadata": {
        "colab": {
          "base_uri": "https://localhost:8080/"
        },
        "id": "AhM6avk0fiR7",
        "outputId": "6711c533-e2f9-4936-be46-a0499bb9d6fb"
      },
      "source": [
        "pd.Series(5, index=[500,600,700])"
      ],
      "execution_count": 14,
      "outputs": [
        {
          "output_type": "execute_result",
          "data": {
            "text/plain": [
              "500    5\n",
              "600    5\n",
              "700    5\n",
              "dtype: int64"
            ]
          },
          "metadata": {
            "tags": []
          },
          "execution_count": 14
        }
      ]
    },
    {
      "cell_type": "code",
      "metadata": {
        "colab": {
          "base_uri": "https://localhost:8080/"
        },
        "id": "6y5S6-DUfpIy",
        "outputId": "e432d194-9472-4ce1-81db-a44be20248b9"
      },
      "source": [
        "dic_data={2:'a',1:'b',3:'c'}\n",
        "dic_data"
      ],
      "execution_count": 15,
      "outputs": [
        {
          "output_type": "execute_result",
          "data": {
            "text/plain": [
              "{1: 'b', 2: 'a', 3: 'c'}"
            ]
          },
          "metadata": {
            "tags": []
          },
          "execution_count": 15
        }
      ]
    },
    {
      "cell_type": "markdown",
      "metadata": {
        "id": "zNIt4Sgsf6X6"
      },
      "source": [
        "오름차순으로 출력"
      ]
    },
    {
      "cell_type": "code",
      "metadata": {
        "colab": {
          "base_uri": "https://localhost:8080/"
        },
        "id": "APoP6T2Tf8PJ",
        "outputId": "c7944928-1279-41f8-c38a-01d26fffb40a"
      },
      "source": [
        "pd.Series({2:'a',1:'b',3:'c'})"
      ],
      "execution_count": 17,
      "outputs": [
        {
          "output_type": "execute_result",
          "data": {
            "text/plain": [
              "2    a\n",
              "1    b\n",
              "3    c\n",
              "dtype: object"
            ]
          },
          "metadata": {
            "tags": []
          },
          "execution_count": 17
        }
      ]
    },
    {
      "cell_type": "markdown",
      "metadata": {
        "id": "RP18wyBLgEeB"
      },
      "source": [
        "순서 그대로 출력"
      ]
    },
    {
      "cell_type": "markdown",
      "metadata": {
        "id": "PSOnJDVUgKgx"
      },
      "source": [
        "**Data Frame**\n",
        "2차원 배열\n",
        "열 인덱스 : 열 이름\n",
        "데이터프레임: 행 인덱스와 열 이름을 갖는 행렬/Seires 객체의 연속"
      ]
    },
    {
      "cell_type": "code",
      "metadata": {
        "colab": {
          "base_uri": "https://localhost:8080/"
        },
        "id": "0vwtnp7lgbKh",
        "outputId": "0f68cfbb-1ec2-4544-b624-26e4346e98ea"
      },
      "source": [
        "area_dict = {\n",
        "    'California': 38332521,\n",
        "    'Texas':26448393,\n",
        "    'New York':19651127,\n",
        "    'Florida':19552860,\n",
        "    'Illinois':12882135\n",
        "}\n",
        "area = pd.Series(area_dict)\n",
        "area"
      ],
      "execution_count": 18,
      "outputs": [
        {
          "output_type": "execute_result",
          "data": {
            "text/plain": [
              "California    38332521\n",
              "Texas         26448393\n",
              "New York      19651127\n",
              "Florida       19552860\n",
              "Illinois      12882135\n",
              "dtype: int64"
            ]
          },
          "metadata": {
            "tags": []
          },
          "execution_count": 18
        }
      ]
    },
    {
      "cell_type": "code",
      "metadata": {
        "colab": {
          "base_uri": "https://localhost:8080/",
          "height": 198
        },
        "id": "Rz3X4AfZgp9C",
        "outputId": "7cae1541-e58a-424f-8e86-c290b64b17d1"
      },
      "source": [
        "states = pd.DataFrame({'population':population, 'area':area})\n",
        "states"
      ],
      "execution_count": 19,
      "outputs": [
        {
          "output_type": "execute_result",
          "data": {
            "text/html": [
              "<div>\n",
              "<style scoped>\n",
              "    .dataframe tbody tr th:only-of-type {\n",
              "        vertical-align: middle;\n",
              "    }\n",
              "\n",
              "    .dataframe tbody tr th {\n",
              "        vertical-align: top;\n",
              "    }\n",
              "\n",
              "    .dataframe thead th {\n",
              "        text-align: right;\n",
              "    }\n",
              "</style>\n",
              "<table border=\"1\" class=\"dataframe\">\n",
              "  <thead>\n",
              "    <tr style=\"text-align: right;\">\n",
              "      <th></th>\n",
              "      <th>population</th>\n",
              "      <th>area</th>\n",
              "    </tr>\n",
              "  </thead>\n",
              "  <tbody>\n",
              "    <tr>\n",
              "      <th>California</th>\n",
              "      <td>38332521</td>\n",
              "      <td>38332521</td>\n",
              "    </tr>\n",
              "    <tr>\n",
              "      <th>Texas</th>\n",
              "      <td>26448393</td>\n",
              "      <td>26448393</td>\n",
              "    </tr>\n",
              "    <tr>\n",
              "      <th>New York</th>\n",
              "      <td>19651127</td>\n",
              "      <td>19651127</td>\n",
              "    </tr>\n",
              "    <tr>\n",
              "      <th>Florida</th>\n",
              "      <td>19552860</td>\n",
              "      <td>19552860</td>\n",
              "    </tr>\n",
              "    <tr>\n",
              "      <th>Illinois</th>\n",
              "      <td>12882135</td>\n",
              "      <td>12882135</td>\n",
              "    </tr>\n",
              "  </tbody>\n",
              "</table>\n",
              "</div>"
            ],
            "text/plain": [
              "            population      area\n",
              "California    38332521  38332521\n",
              "Texas         26448393  26448393\n",
              "New York      19651127  19651127\n",
              "Florida       19552860  19552860\n",
              "Illinois      12882135  12882135"
            ]
          },
          "metadata": {
            "tags": []
          },
          "execution_count": 19
        }
      ]
    },
    {
      "cell_type": "code",
      "metadata": {
        "colab": {
          "base_uri": "https://localhost:8080/"
        },
        "id": "BfdUvsnEhDwL",
        "outputId": "865c7d21-e844-47c9-94ed-344d33455371"
      },
      "source": [
        "states.index"
      ],
      "execution_count": 20,
      "outputs": [
        {
          "output_type": "execute_result",
          "data": {
            "text/plain": [
              "Index(['California', 'Texas', 'New York', 'Florida', 'Illinois'], dtype='object')"
            ]
          },
          "metadata": {
            "tags": []
          },
          "execution_count": 20
        }
      ]
    },
    {
      "cell_type": "code",
      "metadata": {
        "colab": {
          "base_uri": "https://localhost:8080/"
        },
        "id": "x3zy-702hH2C",
        "outputId": "07c24e63-7202-49ae-f2e5-38fcc059add1"
      },
      "source": [
        "states.columns"
      ],
      "execution_count": 24,
      "outputs": [
        {
          "output_type": "execute_result",
          "data": {
            "text/plain": [
              "Index(['population', 'area'], dtype='object')"
            ]
          },
          "metadata": {
            "tags": []
          },
          "execution_count": 24
        }
      ]
    },
    {
      "cell_type": "code",
      "metadata": {
        "colab": {
          "base_uri": "https://localhost:8080/"
        },
        "id": "kIXRHCdBhO17",
        "outputId": "e00ea49e-1d8e-454d-b2a5-3d285c283953"
      },
      "source": [
        "states['area']"
      ],
      "execution_count": 27,
      "outputs": [
        {
          "output_type": "execute_result",
          "data": {
            "text/plain": [
              "California    38332521\n",
              "Texas         26448393\n",
              "New York      19651127\n",
              "Florida       19552860\n",
              "Illinois      12882135\n",
              "Name: area, dtype: int64"
            ]
          },
          "metadata": {
            "tags": []
          },
          "execution_count": 27
        }
      ]
    },
    {
      "cell_type": "code",
      "metadata": {
        "colab": {
          "base_uri": "https://localhost:8080/",
          "height": 78
        },
        "id": "xH3qBBnrhZpV",
        "outputId": "d7852112-fe26-4705-a976-ccb42afb2c53"
      },
      "source": [
        "pd.DataFrame(population, index=['Texas'], columns=['population'])"
      ],
      "execution_count": 28,
      "outputs": [
        {
          "output_type": "execute_result",
          "data": {
            "text/html": [
              "<div>\n",
              "<style scoped>\n",
              "    .dataframe tbody tr th:only-of-type {\n",
              "        vertical-align: middle;\n",
              "    }\n",
              "\n",
              "    .dataframe tbody tr th {\n",
              "        vertical-align: top;\n",
              "    }\n",
              "\n",
              "    .dataframe thead th {\n",
              "        text-align: right;\n",
              "    }\n",
              "</style>\n",
              "<table border=\"1\" class=\"dataframe\">\n",
              "  <thead>\n",
              "    <tr style=\"text-align: right;\">\n",
              "      <th></th>\n",
              "      <th>population</th>\n",
              "    </tr>\n",
              "  </thead>\n",
              "  <tbody>\n",
              "    <tr>\n",
              "      <th>Texas</th>\n",
              "      <td>26448393</td>\n",
              "    </tr>\n",
              "  </tbody>\n",
              "</table>\n",
              "</div>"
            ],
            "text/plain": [
              "       population\n",
              "Texas    26448393"
            ]
          },
          "metadata": {
            "tags": []
          },
          "execution_count": 28
        }
      ]
    },
    {
      "cell_type": "markdown",
      "metadata": {
        "id": "TWVVuoXPhrgK"
      },
      "source": [
        "누락된 자리는 NaN값으로 채움"
      ]
    },
    {
      "cell_type": "code",
      "metadata": {
        "colab": {
          "base_uri": "https://localhost:8080/",
          "height": 108
        },
        "id": "qS4uau_LhuJ6",
        "outputId": "ffce5094-5c2e-41f3-e197-a2266f4ef2a5"
      },
      "source": [
        "pd.DataFrame([{'a':1,'b':2},{'b':3,'c':4}])"
      ],
      "execution_count": 29,
      "outputs": [
        {
          "output_type": "execute_result",
          "data": {
            "text/html": [
              "<div>\n",
              "<style scoped>\n",
              "    .dataframe tbody tr th:only-of-type {\n",
              "        vertical-align: middle;\n",
              "    }\n",
              "\n",
              "    .dataframe tbody tr th {\n",
              "        vertical-align: top;\n",
              "    }\n",
              "\n",
              "    .dataframe thead th {\n",
              "        text-align: right;\n",
              "    }\n",
              "</style>\n",
              "<table border=\"1\" class=\"dataframe\">\n",
              "  <thead>\n",
              "    <tr style=\"text-align: right;\">\n",
              "      <th></th>\n",
              "      <th>a</th>\n",
              "      <th>b</th>\n",
              "      <th>c</th>\n",
              "    </tr>\n",
              "  </thead>\n",
              "  <tbody>\n",
              "    <tr>\n",
              "      <th>0</th>\n",
              "      <td>1.0</td>\n",
              "      <td>2</td>\n",
              "      <td>NaN</td>\n",
              "    </tr>\n",
              "    <tr>\n",
              "      <th>1</th>\n",
              "      <td>NaN</td>\n",
              "      <td>3</td>\n",
              "      <td>4.0</td>\n",
              "    </tr>\n",
              "  </tbody>\n",
              "</table>\n",
              "</div>"
            ],
            "text/plain": [
              "     a  b    c\n",
              "0  1.0  2  NaN\n",
              "1  NaN  3  4.0"
            ]
          },
          "metadata": {
            "tags": []
          },
          "execution_count": 29
        }
      ]
    },
    {
      "cell_type": "code",
      "metadata": {
        "colab": {
          "base_uri": "https://localhost:8080/",
          "height": 138
        },
        "id": "yintacqwiCLy",
        "outputId": "51b3d62d-acfb-4dd1-87a8-09ae243042b2"
      },
      "source": [
        "pd.DataFrame(np.random.rand(3,2),\n",
        "             columns=['foo','bar'],\n",
        "             index=['a','b','c'])"
      ],
      "execution_count": 30,
      "outputs": [
        {
          "output_type": "execute_result",
          "data": {
            "text/html": [
              "<div>\n",
              "<style scoped>\n",
              "    .dataframe tbody tr th:only-of-type {\n",
              "        vertical-align: middle;\n",
              "    }\n",
              "\n",
              "    .dataframe tbody tr th {\n",
              "        vertical-align: top;\n",
              "    }\n",
              "\n",
              "    .dataframe thead th {\n",
              "        text-align: right;\n",
              "    }\n",
              "</style>\n",
              "<table border=\"1\" class=\"dataframe\">\n",
              "  <thead>\n",
              "    <tr style=\"text-align: right;\">\n",
              "      <th></th>\n",
              "      <th>foo</th>\n",
              "      <th>bar</th>\n",
              "    </tr>\n",
              "  </thead>\n",
              "  <tbody>\n",
              "    <tr>\n",
              "      <th>a</th>\n",
              "      <td>0.177544</td>\n",
              "      <td>0.494532</td>\n",
              "    </tr>\n",
              "    <tr>\n",
              "      <th>b</th>\n",
              "      <td>0.094701</td>\n",
              "      <td>0.844631</td>\n",
              "    </tr>\n",
              "    <tr>\n",
              "      <th>c</th>\n",
              "      <td>0.098002</td>\n",
              "      <td>0.189565</td>\n",
              "    </tr>\n",
              "  </tbody>\n",
              "</table>\n",
              "</div>"
            ],
            "text/plain": [
              "        foo       bar\n",
              "a  0.177544  0.494532\n",
              "b  0.094701  0.844631\n",
              "c  0.098002  0.189565"
            ]
          },
          "metadata": {
            "tags": []
          },
          "execution_count": 30
        }
      ]
    },
    {
      "cell_type": "markdown",
      "metadata": {
        "id": "-glZLutZinCm"
      },
      "source": [
        "**Index 객체**\n",
        "\n",
        "불변의 값 - 안전하게 사용하고 공유가능"
      ]
    },
    {
      "cell_type": "code",
      "metadata": {
        "colab": {
          "base_uri": "https://localhost:8080/"
        },
        "id": "6uB2krPTisfc",
        "outputId": "c0aca78d-84ad-421d-f564-5cc219d2de94"
      },
      "source": [
        "ind = pd.Index([2,3,5,7,11])\n",
        "ind"
      ],
      "execution_count": 31,
      "outputs": [
        {
          "output_type": "execute_result",
          "data": {
            "text/plain": [
              "Int64Index([2, 3, 5, 7, 11], dtype='int64')"
            ]
          },
          "metadata": {
            "tags": []
          },
          "execution_count": 31
        }
      ]
    },
    {
      "cell_type": "code",
      "metadata": {
        "colab": {
          "base_uri": "https://localhost:8080/"
        },
        "id": "G1KA1-G-i0Hb",
        "outputId": "b8282d00-9d6b-4c6d-a7f4-4f3164d2e3bf"
      },
      "source": [
        "ind[::2]"
      ],
      "execution_count": 32,
      "outputs": [
        {
          "output_type": "execute_result",
          "data": {
            "text/plain": [
              "Int64Index([2, 5, 11], dtype='int64')"
            ]
          },
          "metadata": {
            "tags": []
          },
          "execution_count": 32
        }
      ]
    },
    {
      "cell_type": "code",
      "metadata": {
        "colab": {
          "base_uri": "https://localhost:8080/"
        },
        "id": "A-If1tvQi39j",
        "outputId": "2b430f9b-d69d-42c6-c895-39899bcafe7a"
      },
      "source": [
        "print(ind.size, ind.shape, ind.ndim)"
      ],
      "execution_count": 33,
      "outputs": [
        {
          "output_type": "stream",
          "text": [
            "5 (5,) 1\n"
          ],
          "name": "stdout"
        }
      ]
    },
    {
      "cell_type": "markdown",
      "metadata": {
        "id": "TM8pHee7jKZy"
      },
      "source": [
        "집합연산"
      ]
    },
    {
      "cell_type": "code",
      "metadata": {
        "colab": {
          "base_uri": "https://localhost:8080/"
        },
        "id": "e7dCeNMNjMFb",
        "outputId": "e1ebced5-e62b-40b6-c76f-6891dc91b18c"
      },
      "source": [
        "indA = pd.Index([1,3,5,7,9])\n",
        "indB = pd.Index([2,3,5,7,11])\n",
        "indA & indB #교집합"
      ],
      "execution_count": 35,
      "outputs": [
        {
          "output_type": "execute_result",
          "data": {
            "text/plain": [
              "Int64Index([3, 5, 7], dtype='int64')"
            ]
          },
          "metadata": {
            "tags": []
          },
          "execution_count": 35
        }
      ]
    },
    {
      "cell_type": "code",
      "metadata": {
        "colab": {
          "base_uri": "https://localhost:8080/"
        },
        "id": "M5Yc-n5Yjnoi",
        "outputId": "4fa45f32-40da-4cb0-ab6c-c26bbf71c76f"
      },
      "source": [
        "indA | indB #합집합"
      ],
      "execution_count": 36,
      "outputs": [
        {
          "output_type": "execute_result",
          "data": {
            "text/plain": [
              "Int64Index([1, 2, 3, 5, 7, 9, 11], dtype='int64')"
            ]
          },
          "metadata": {
            "tags": []
          },
          "execution_count": 36
        }
      ]
    },
    {
      "cell_type": "code",
      "metadata": {
        "colab": {
          "base_uri": "https://localhost:8080/"
        },
        "id": "4dk6wmeBjo_y",
        "outputId": "20b1e353-c016-4bf2-f633-84f20f5ba8fc"
      },
      "source": [
        "indA ^ indB #두 집합의 상대 여집합의 합"
      ],
      "execution_count": 37,
      "outputs": [
        {
          "output_type": "execute_result",
          "data": {
            "text/plain": [
              "Int64Index([1, 2, 9, 11], dtype='int64')"
            ]
          },
          "metadata": {
            "tags": []
          },
          "execution_count": 37
        }
      ]
    },
    {
      "cell_type": "markdown",
      "metadata": {
        "id": "0d7JxfeAj55c"
      },
      "source": [
        "**인덱서**\n",
        "\n",
        "1.   loc (인덱스 이름. 범위 지정 가능)\n",
        "2.   iloc (정수형)\n",
        "\n"
      ]
    },
    {
      "cell_type": "code",
      "metadata": {
        "colab": {
          "base_uri": "https://localhost:8080/"
        },
        "id": "DZ-xmAvHkHXh",
        "outputId": "bb026c70-4443-4e10-919a-0af3917f545c"
      },
      "source": [
        "data = pd.Series([0.28,0.5,0.75,1.0],index=['a','b','c','d'])\n",
        "data"
      ],
      "execution_count": 38,
      "outputs": [
        {
          "output_type": "execute_result",
          "data": {
            "text/plain": [
              "a    0.28\n",
              "b    0.50\n",
              "c    0.75\n",
              "d    1.00\n",
              "dtype: float64"
            ]
          },
          "metadata": {
            "tags": []
          },
          "execution_count": 38
        }
      ]
    },
    {
      "cell_type": "code",
      "metadata": {
        "colab": {
          "base_uri": "https://localhost:8080/"
        },
        "id": "SUae69S6kWHg",
        "outputId": "779d48f9-e7ef-47ff-84ff-0802dacc15b3"
      },
      "source": [
        "data.loc['a']"
      ],
      "execution_count": 39,
      "outputs": [
        {
          "output_type": "execute_result",
          "data": {
            "text/plain": [
              "0.28"
            ]
          },
          "metadata": {
            "tags": []
          },
          "execution_count": 39
        }
      ]
    },
    {
      "cell_type": "code",
      "metadata": {
        "colab": {
          "base_uri": "https://localhost:8080/"
        },
        "id": "_nZmn5wBkZmk",
        "outputId": "ce99d3c0-39a4-4906-8429-cd586f745385"
      },
      "source": [
        "data.iloc[1]"
      ],
      "execution_count": 40,
      "outputs": [
        {
          "output_type": "execute_result",
          "data": {
            "text/plain": [
              "0.5"
            ]
          },
          "metadata": {
            "tags": []
          },
          "execution_count": 40
        }
      ]
    },
    {
      "cell_type": "code",
      "metadata": {
        "colab": {
          "base_uri": "https://localhost:8080/",
          "height": 198
        },
        "id": "IkPitGxlkpna",
        "outputId": "e6ab9e46-5816-489a-81ce-2c91e02c3a75"
      },
      "source": [
        "import pandas as pd\n",
        "area = pd.Series({'California': 38332521,\n",
        "    'Texas':26448393,\n",
        "    'New York':19651127,\n",
        "    'Florida':19552860,\n",
        "    'Illinois':12882135})\n",
        "pop = pd.Series({'California': 38332521,\n",
        "    'Texas':26448393,\n",
        "    'New York':19651127,\n",
        "    'Florida':19552860,\n",
        "    'Illinois':12882135})\n",
        "data = pd.DataFrame({'area':area,'pop':pop})\n",
        "data"
      ],
      "execution_count": 43,
      "outputs": [
        {
          "output_type": "execute_result",
          "data": {
            "text/html": [
              "<div>\n",
              "<style scoped>\n",
              "    .dataframe tbody tr th:only-of-type {\n",
              "        vertical-align: middle;\n",
              "    }\n",
              "\n",
              "    .dataframe tbody tr th {\n",
              "        vertical-align: top;\n",
              "    }\n",
              "\n",
              "    .dataframe thead th {\n",
              "        text-align: right;\n",
              "    }\n",
              "</style>\n",
              "<table border=\"1\" class=\"dataframe\">\n",
              "  <thead>\n",
              "    <tr style=\"text-align: right;\">\n",
              "      <th></th>\n",
              "      <th>area</th>\n",
              "      <th>pop</th>\n",
              "    </tr>\n",
              "  </thead>\n",
              "  <tbody>\n",
              "    <tr>\n",
              "      <th>California</th>\n",
              "      <td>38332521</td>\n",
              "      <td>38332521</td>\n",
              "    </tr>\n",
              "    <tr>\n",
              "      <th>Texas</th>\n",
              "      <td>26448393</td>\n",
              "      <td>26448393</td>\n",
              "    </tr>\n",
              "    <tr>\n",
              "      <th>New York</th>\n",
              "      <td>19651127</td>\n",
              "      <td>19651127</td>\n",
              "    </tr>\n",
              "    <tr>\n",
              "      <th>Florida</th>\n",
              "      <td>19552860</td>\n",
              "      <td>19552860</td>\n",
              "    </tr>\n",
              "    <tr>\n",
              "      <th>Illinois</th>\n",
              "      <td>12882135</td>\n",
              "      <td>12882135</td>\n",
              "    </tr>\n",
              "  </tbody>\n",
              "</table>\n",
              "</div>"
            ],
            "text/plain": [
              "                area       pop\n",
              "California  38332521  38332521\n",
              "Texas       26448393  26448393\n",
              "New York    19651127  19651127\n",
              "Florida     19552860  19552860\n",
              "Illinois    12882135  12882135"
            ]
          },
          "metadata": {
            "tags": []
          },
          "execution_count": 43
        }
      ]
    },
    {
      "cell_type": "code",
      "metadata": {
        "colab": {
          "base_uri": "https://localhost:8080/"
        },
        "id": "Fx11Ayq4lEBu",
        "outputId": "cd242512-6110-4a23-aa6f-25bf296ae4a4"
      },
      "source": [
        "data['area']"
      ],
      "execution_count": 44,
      "outputs": [
        {
          "output_type": "execute_result",
          "data": {
            "text/plain": [
              "California    38332521\n",
              "Texas         26448393\n",
              "New York      19651127\n",
              "Florida       19552860\n",
              "Illinois      12882135\n",
              "Name: area, dtype: int64"
            ]
          },
          "metadata": {
            "tags": []
          },
          "execution_count": 44
        }
      ]
    },
    {
      "cell_type": "code",
      "metadata": {
        "colab": {
          "base_uri": "https://localhost:8080/"
        },
        "id": "nEkQLQPBlGCK",
        "outputId": "c4121862-e20a-43fc-ead1-7d9575aaefa6"
      },
      "source": [
        "data.area"
      ],
      "execution_count": 45,
      "outputs": [
        {
          "output_type": "execute_result",
          "data": {
            "text/plain": [
              "California    38332521\n",
              "Texas         26448393\n",
              "New York      19651127\n",
              "Florida       19552860\n",
              "Illinois      12882135\n",
              "Name: area, dtype: int64"
            ]
          },
          "metadata": {
            "tags": []
          },
          "execution_count": 45
        }
      ]
    },
    {
      "cell_type": "markdown",
      "metadata": {
        "id": "LvksIy9OlSYb"
      },
      "source": [
        "딕셔너리 명령어-객체 변경"
      ]
    },
    {
      "cell_type": "code",
      "metadata": {
        "id": "eeVI-FlblWh8"
      },
      "source": [
        "states['density'] = states['pop'] / states['area']\n",
        "states"
      ],
      "execution_count": null,
      "outputs": []
    },
    {
      "cell_type": "code",
      "metadata": {
        "colab": {
          "base_uri": "https://localhost:8080/"
        },
        "id": "T6P2IDHflvfz",
        "outputId": "4cdaf282-15eb-4225-a867-06de358dbfa5"
      },
      "source": [
        "states.values"
      ],
      "execution_count": 50,
      "outputs": [
        {
          "output_type": "execute_result",
          "data": {
            "text/plain": [
              "array([[38332521, 38332521],\n",
              "       [26448393, 26448393],\n",
              "       [19651127, 19651127],\n",
              "       [19552860, 19552860],\n",
              "       [12882135, 12882135]])"
            ]
          },
          "metadata": {
            "tags": []
          },
          "execution_count": 50
        }
      ]
    },
    {
      "cell_type": "code",
      "metadata": {
        "colab": {
          "base_uri": "https://localhost:8080/",
          "height": 108
        },
        "id": "pLw8SGHVlyhr",
        "outputId": "8bd94aa1-77db-40d1-9028-3b672ec84614"
      },
      "source": [
        "states.T"
      ],
      "execution_count": 51,
      "outputs": [
        {
          "output_type": "execute_result",
          "data": {
            "text/html": [
              "<div>\n",
              "<style scoped>\n",
              "    .dataframe tbody tr th:only-of-type {\n",
              "        vertical-align: middle;\n",
              "    }\n",
              "\n",
              "    .dataframe tbody tr th {\n",
              "        vertical-align: top;\n",
              "    }\n",
              "\n",
              "    .dataframe thead th {\n",
              "        text-align: right;\n",
              "    }\n",
              "</style>\n",
              "<table border=\"1\" class=\"dataframe\">\n",
              "  <thead>\n",
              "    <tr style=\"text-align: right;\">\n",
              "      <th></th>\n",
              "      <th>California</th>\n",
              "      <th>Texas</th>\n",
              "      <th>New York</th>\n",
              "      <th>Florida</th>\n",
              "      <th>Illinois</th>\n",
              "    </tr>\n",
              "  </thead>\n",
              "  <tbody>\n",
              "    <tr>\n",
              "      <th>population</th>\n",
              "      <td>38332521</td>\n",
              "      <td>26448393</td>\n",
              "      <td>19651127</td>\n",
              "      <td>19552860</td>\n",
              "      <td>12882135</td>\n",
              "    </tr>\n",
              "    <tr>\n",
              "      <th>area</th>\n",
              "      <td>38332521</td>\n",
              "      <td>26448393</td>\n",
              "      <td>19651127</td>\n",
              "      <td>19552860</td>\n",
              "      <td>12882135</td>\n",
              "    </tr>\n",
              "  </tbody>\n",
              "</table>\n",
              "</div>"
            ],
            "text/plain": [
              "            California     Texas  New York   Florida  Illinois\n",
              "population    38332521  26448393  19651127  19552860  12882135\n",
              "area          38332521  26448393  19651127  19552860  12882135"
            ]
          },
          "metadata": {
            "tags": []
          },
          "execution_count": 51
        }
      ]
    },
    {
      "cell_type": "code",
      "metadata": {
        "colab": {
          "base_uri": "https://localhost:8080/"
        },
        "id": "aT4y8a1ql2wL",
        "outputId": "96c0aab6-91ce-48a8-ecf9-ccf954736860"
      },
      "source": [
        "states.values[0]"
      ],
      "execution_count": 53,
      "outputs": [
        {
          "output_type": "execute_result",
          "data": {
            "text/plain": [
              "array([38332521, 38332521])"
            ]
          },
          "metadata": {
            "tags": []
          },
          "execution_count": 53
        }
      ]
    },
    {
      "cell_type": "markdown",
      "metadata": {
        "id": "DSLXOf1jl_rS"
      },
      "source": [
        "**Data Frame**"
      ]
    },
    {
      "cell_type": "code",
      "metadata": {
        "id": "0TPpifHpmC8y"
      },
      "source": [
        "states.iloc[:3.:2]"
      ],
      "execution_count": null,
      "outputs": []
    },
    {
      "cell_type": "markdown",
      "metadata": {
        "id": "wcnVGlZvmV3z"
      },
      "source": [
        "**pandas 산술연산**"
      ]
    },
    {
      "cell_type": "code",
      "metadata": {
        "colab": {
          "base_uri": "https://localhost:8080/"
        },
        "id": "I4CPel-LmaAq",
        "outputId": "422457b1-96df-42f7-a575-3e4791c55f5c"
      },
      "source": [
        "student = pd.Series({'국어':96, '영어':90, '수학':80})\n",
        "p_student = student / 100 \n",
        "p_student"
      ],
      "execution_count": 61,
      "outputs": [
        {
          "output_type": "execute_result",
          "data": {
            "text/plain": [
              "국어    0.96\n",
              "영어    0.90\n",
              "수학    0.80\n",
              "dtype: float64"
            ]
          },
          "metadata": {
            "tags": []
          },
          "execution_count": 61
        }
      ]
    },
    {
      "cell_type": "code",
      "metadata": {
        "colab": {
          "base_uri": "https://localhost:8080/"
        },
        "id": "t5XaoIWAm5YO",
        "outputId": "0c62c93d-f991-42dc-c582-004e81291e86"
      },
      "source": [
        "student1 = pd.Series({'국어':96, '영어':90, '수학':80})\n",
        "student2 = pd.Series({'국어':56, '영어':70, '수학':95})\n",
        "avg_student = (student1 + student2) / 2\n",
        "avg_student"
      ],
      "execution_count": 62,
      "outputs": [
        {
          "output_type": "execute_result",
          "data": {
            "text/plain": [
              "국어    76.0\n",
              "영어    80.0\n",
              "수학    87.5\n",
              "dtype: float64"
            ]
          },
          "metadata": {
            "tags": []
          },
          "execution_count": 62
        }
      ]
    },
    {
      "cell_type": "markdown",
      "metadata": {
        "id": "eRCWk-KQnP1f"
      },
      "source": [
        "*인덱스가 서로 다른 경우에도 적용됨*"
      ]
    },
    {
      "cell_type": "markdown",
      "metadata": {
        "id": "sUGmxpgEnkOl"
      },
      "source": [
        "+ add\n",
        "- sub\n",
        "* mul\n",
        "/ div\n",
        "NAN fill_value=0"
      ]
    },
    {
      "cell_type": "code",
      "metadata": {
        "colab": {
          "base_uri": "https://localhost:8080/"
        },
        "id": "KZ6nJ_mwnt9T",
        "outputId": "177eb2de-dc83-4e1a-e3ba-a9c0affac39a"
      },
      "source": [
        "student1 = pd.Series({'국어':96, '영어':np.nan, '수학':80})\n",
        "student2 = pd.Series({'영어':70, '수학':95})\n",
        "sum_student = student1.add(student2, fill_value=0)\n",
        "sum_student"
      ],
      "execution_count": 63,
      "outputs": [
        {
          "output_type": "execute_result",
          "data": {
            "text/plain": [
              "국어     96.0\n",
              "수학    175.0\n",
              "영어     70.0\n",
              "dtype: float64"
            ]
          },
          "metadata": {
            "tags": []
          },
          "execution_count": 63
        }
      ]
    },
    {
      "cell_type": "code",
      "metadata": {
        "colab": {
          "base_uri": "https://localhost:8080/"
        },
        "id": "3PJeL6Yooqfc",
        "outputId": "68310309-e57c-4e08-ed05-061a212762c6"
      },
      "source": [
        "music = pd.Series({'s1':96,'s2':98,'s3':85})\n",
        "music"
      ],
      "execution_count": 65,
      "outputs": [
        {
          "output_type": "execute_result",
          "data": {
            "text/plain": [
              "s1    96\n",
              "s2    98\n",
              "s3    85\n",
              "dtype: int64"
            ]
          },
          "metadata": {
            "tags": []
          },
          "execution_count": 65
        }
      ]
    }
  ]
}