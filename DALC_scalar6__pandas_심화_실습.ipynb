{
  "nbformat": 4,
  "nbformat_minor": 0,
  "metadata": {
    "colab": {
      "name": "DALC_scalar6__pandas_심화_실습.ipynb",
      "provenance": [],
      "collapsed_sections": [],
      "include_colab_link": true
    },
    "kernelspec": {
      "name": "python3",
      "display_name": "Python 3"
    },
    "language_info": {
      "name": "python"
    }
  },
  "cells": [
    {
      "cell_type": "markdown",
      "metadata": {
        "id": "view-in-github",
        "colab_type": "text"
      },
      "source": [
        "<a href=\"https://colab.research.google.com/github/yoojinlee-hub/DALC_Scala/blob/main/DALC_scalar6__pandas_%EC%8B%AC%ED%99%94_%EC%8B%A4%EC%8A%B5.ipynb\" target=\"_parent\"><img src=\"https://colab.research.google.com/assets/colab-badge.svg\" alt=\"Open In Colab\"/></a>"
      ]
    },
    {
      "cell_type": "markdown",
      "metadata": {
        "id": "hUQY0a9AmQB1"
      },
      "source": [
        "# 주관식\n",
        "셀을 더블클릭해서  : 다음에 답을 입력하세요."
      ]
    },
    {
      "cell_type": "markdown",
      "metadata": {
        "id": "s0tu8WgkHe9n"
      },
      "source": [
        "* 데이터프레임 file의 클래스유형:csv\n",
        "* 측정일시의 자료형:csv\n",
        "* 전체 데이터프레임의 자료형은 어떻게 구성되어있나(정수형?개,실수형?개,문자형?개):info함수를 통해\n",
        "* 메모리 사용량: info(memory_usage='')"
      ]
    },
    {
      "cell_type": "markdown",
      "metadata": {
        "id": "6nQsARbhNrvK"
      },
      "source": [
        "* value_counts()코드작성 결과 왼쪽숫자와 오른쪽숫자는 무엇을 의미하는가 : 행(인덱스),데이터 값(고유값의 개수)"
      ]
    },
    {
      "cell_type": "markdown",
      "metadata": {
        "id": "O7Cz3tPHMFq8"
      },
      "source": [
        "* min,max,std 같은 통계함수 반환결과는 어떤객체로 반환되는가?: 시리즈 객체"
      ]
    },
    {
      "cell_type": "markdown",
      "metadata": {
        "id": "978ZPud4PDUu"
      },
      "source": [
        "* 그래프를 만들기 위해 pandas내장 그래프인 plot()내장함수를 사용할때 , 히스토그램 그래프를 만들기 위한 kind값은: hist"
      ]
    },
    {
      "cell_type": "markdown",
      "metadata": {
        "id": "3aFRHKwiSiGB"
      },
      "source": [
        "* 데이터레코드는 무엇은 뜻하는가: 데이터들의 모임\n",
        "* 중복된 데이터셋이 존재할 경우 분석결과에 어떤 영향이있나:메모리 사용량이 커짐"
      ]
    },
    {
      "cell_type": "markdown",
      "metadata": {
        "id": "8gOX_CVzSiPN"
      },
      "source": [
        "* 중복된 데이터셋이 있을경우 true로 반환되는가 false로 반환되는가? true"
      ]
    },
    {
      "cell_type": "markdown",
      "metadata": {
        "id": "LEpgg6MllqlP"
      },
      "source": [
        "# Pandas 심화실습\n",
        "* 파일읽기와 쓰기\n",
        "* 데이터프레임 구조\n",
        "* 통계 함수 \n",
        "\n",
        "해당 질문 밑에 있는 코드셀에 코드를 입력하세요"
      ]
    },
    {
      "cell_type": "markdown",
      "metadata": {
        "id": "ZPLYsr50N48B"
      },
      "source": [
        "# csv파일"
      ]
    },
    {
      "cell_type": "markdown",
      "metadata": {
        "id": "H0vQPFbZD9nu"
      },
      "source": [
        "* 판다스,넘파이 임포트하기"
      ]
    },
    {
      "cell_type": "code",
      "metadata": {
        "id": "BsoUCCWXxOem",
        "colab": {
          "base_uri": "https://localhost:8080/"
        },
        "outputId": "bcca8386-c24c-4bd6-d881-c22eb7651cbf"
      },
      "source": [
        "from google.colab import drive\n",
        "drive.mount('/content/drive')"
      ],
      "execution_count": null,
      "outputs": [
        {
          "output_type": "stream",
          "text": [
            "Mounted at /content/drive\n"
          ],
          "name": "stdout"
        }
      ]
    },
    {
      "cell_type": "code",
      "metadata": {
        "id": "8NHb_3yTGXk8"
      },
      "source": [
        "import pandas as pd\n",
        "import numpy as np"
      ],
      "execution_count": null,
      "outputs": []
    },
    {
      "cell_type": "markdown",
      "metadata": {
        "id": "p_5uwi8CHNKW"
      },
      "source": [
        "* (성북구)서울생활인구 일별 집계표를 read_csv()함수로 file변수에 저장해라"
      ]
    },
    {
      "cell_type": "code",
      "metadata": {
        "id": "7gRJmswLmrzq",
        "colab": {
          "base_uri": "https://localhost:8080/",
          "height": 790
        },
        "outputId": "b7bc2fec-f7e4-4d85-b31b-31a43aa9dd45"
      },
      "source": [
        "file=pd.read_csv('/content/drive/MyDrive/(성북구) 서울생활인구 일별 집계표.csv',header=None,encoding='euc-kr')\n",
        "file"
      ],
      "execution_count": null,
      "outputs": [
        {
          "output_type": "execute_result",
          "data": {
            "text/html": [
              "<div>\n",
              "<style scoped>\n",
              "    .dataframe tbody tr th:only-of-type {\n",
              "        vertical-align: middle;\n",
              "    }\n",
              "\n",
              "    .dataframe tbody tr th {\n",
              "        vertical-align: top;\n",
              "    }\n",
              "\n",
              "    .dataframe thead th {\n",
              "        text-align: right;\n",
              "    }\n",
              "</style>\n",
              "<table border=\"1\" class=\"dataframe\">\n",
              "  <thead>\n",
              "    <tr style=\"text-align: right;\">\n",
              "      <th></th>\n",
              "      <th>0</th>\n",
              "      <th>1</th>\n",
              "      <th>2</th>\n",
              "      <th>3</th>\n",
              "      <th>4</th>\n",
              "      <th>5</th>\n",
              "      <th>6</th>\n",
              "      <th>7</th>\n",
              "      <th>8</th>\n",
              "      <th>9</th>\n",
              "      <th>10</th>\n",
              "      <th>11</th>\n",
              "      <th>12</th>\n",
              "      <th>13</th>\n",
              "      <th>14</th>\n",
              "    </tr>\n",
              "  </thead>\n",
              "  <tbody>\n",
              "    <tr>\n",
              "      <th>0</th>\n",
              "      <td>기준일ID</td>\n",
              "      <td>시군구코드</td>\n",
              "      <td>시군구명</td>\n",
              "      <td>총생활인구수</td>\n",
              "      <td>내국인생활인구수</td>\n",
              "      <td>장기체류외국인인구수</td>\n",
              "      <td>단기체류외국인인구수</td>\n",
              "      <td>일최대인구수</td>\n",
              "      <td>일최소인구수</td>\n",
              "      <td>주간인구수(09~18)</td>\n",
              "      <td>야간인구수(19~08)</td>\n",
              "      <td>일최대이동인구수</td>\n",
              "      <td>서울외유입인구수</td>\n",
              "      <td>동일자치구행정동간이동인구수</td>\n",
              "      <td>자치구간이동인구수</td>\n",
              "    </tr>\n",
              "    <tr>\n",
              "      <th>1</th>\n",
              "      <td>20210425</td>\n",
              "      <td>11290</td>\n",
              "      <td>성북구</td>\n",
              "      <td>443639.45680</td>\n",
              "      <td>426291.84200</td>\n",
              "      <td>14728.45920</td>\n",
              "      <td>2619.15560</td>\n",
              "      <td>465470.80920</td>\n",
              "      <td>416126.41780</td>\n",
              "      <td>427753.49210</td>\n",
              "      <td>454986.57450</td>\n",
              "      <td>168361.07380</td>\n",
              "      <td>20646.80240</td>\n",
              "      <td>91937.32060</td>\n",
              "      <td>55776.95080</td>\n",
              "    </tr>\n",
              "    <tr>\n",
              "      <th>2</th>\n",
              "      <td>20210424</td>\n",
              "      <td>11290</td>\n",
              "      <td>성북구</td>\n",
              "      <td>437840.32410</td>\n",
              "      <td>421201.82570</td>\n",
              "      <td>14711.10870</td>\n",
              "      <td>1927.38980</td>\n",
              "      <td>459598.45900</td>\n",
              "      <td>408104.13620</td>\n",
              "      <td>418491.12470</td>\n",
              "      <td>451661.18080</td>\n",
              "      <td>173192.06950</td>\n",
              "      <td>22332.52960</td>\n",
              "      <td>88407.36780</td>\n",
              "      <td>62452.17210</td>\n",
              "    </tr>\n",
              "    <tr>\n",
              "      <th>3</th>\n",
              "      <td>20210423</td>\n",
              "      <td>11290</td>\n",
              "      <td>성북구</td>\n",
              "      <td>435185.36780</td>\n",
              "      <td>418784.71860</td>\n",
              "      <td>14991.80530</td>\n",
              "      <td>1408.84390</td>\n",
              "      <td>465491.92740</td>\n",
              "      <td>400532.96140</td>\n",
              "      <td>408959.39910</td>\n",
              "      <td>453918.20260</td>\n",
              "      <td>192984.50380</td>\n",
              "      <td>22768.37600</td>\n",
              "      <td>93289.93880</td>\n",
              "      <td>76926.18900</td>\n",
              "    </tr>\n",
              "    <tr>\n",
              "      <th>4</th>\n",
              "      <td>20210422</td>\n",
              "      <td>11290</td>\n",
              "      <td>성북구</td>\n",
              "      <td>438600.35210</td>\n",
              "      <td>421482.46410</td>\n",
              "      <td>15150.64420</td>\n",
              "      <td>1967.24380</td>\n",
              "      <td>467918.04400</td>\n",
              "      <td>404219.35790</td>\n",
              "      <td>411963.45150</td>\n",
              "      <td>457626.70970</td>\n",
              "      <td>197478.01740</td>\n",
              "      <td>23795.99210</td>\n",
              "      <td>94515.73460</td>\n",
              "      <td>79166.29070</td>\n",
              "    </tr>\n",
              "    <tr>\n",
              "      <th>...</th>\n",
              "      <td>...</td>\n",
              "      <td>...</td>\n",
              "      <td>...</td>\n",
              "      <td>...</td>\n",
              "      <td>...</td>\n",
              "      <td>...</td>\n",
              "      <td>...</td>\n",
              "      <td>...</td>\n",
              "      <td>...</td>\n",
              "      <td>...</td>\n",
              "      <td>...</td>\n",
              "      <td>...</td>\n",
              "      <td>...</td>\n",
              "      <td>...</td>\n",
              "      <td>...</td>\n",
              "    </tr>\n",
              "    <tr>\n",
              "      <th>1098</th>\n",
              "      <td>20180409</td>\n",
              "      <td>11290</td>\n",
              "      <td>성북구</td>\n",
              "      <td>476114.24590</td>\n",
              "      <td>454886.10310</td>\n",
              "      <td>18788.06680</td>\n",
              "      <td>2440.07600</td>\n",
              "      <td>504092.62350</td>\n",
              "      <td>450264.16860</td>\n",
              "      <td>453415.34120</td>\n",
              "      <td>492327.74920</td>\n",
              "      <td>240497.63390</td>\n",
              "      <td>30769.73320</td>\n",
              "      <td>103022.83580</td>\n",
              "      <td>106705.06490</td>\n",
              "    </tr>\n",
              "    <tr>\n",
              "      <th>1099</th>\n",
              "      <td>20180408</td>\n",
              "      <td>11290</td>\n",
              "      <td>성북구</td>\n",
              "      <td>477840.49290</td>\n",
              "      <td>456999.13760</td>\n",
              "      <td>18226.85170</td>\n",
              "      <td>2614.50360</td>\n",
              "      <td>498844.12240</td>\n",
              "      <td>450066.63510</td>\n",
              "      <td>461373.95650</td>\n",
              "      <td>489602.30450</td>\n",
              "      <td>193289.26080</td>\n",
              "      <td>24703.28610</td>\n",
              "      <td>98189.04260</td>\n",
              "      <td>70396.93210</td>\n",
              "    </tr>\n",
              "    <tr>\n",
              "      <th>1100</th>\n",
              "      <td>20180407</td>\n",
              "      <td>11290</td>\n",
              "      <td>성북구</td>\n",
              "      <td>466144.52940</td>\n",
              "      <td>445674.45040</td>\n",
              "      <td>17855.15440</td>\n",
              "      <td>2614.92470</td>\n",
              "      <td>497224.81540</td>\n",
              "      <td>432109.66880</td>\n",
              "      <td>442971.58690</td>\n",
              "      <td>482696.63120</td>\n",
              "      <td>196216.04810</td>\n",
              "      <td>26331.93420</td>\n",
              "      <td>95319.36890</td>\n",
              "      <td>74564.74500</td>\n",
              "    </tr>\n",
              "    <tr>\n",
              "      <th>1101</th>\n",
              "      <td>20180406</td>\n",
              "      <td>11290</td>\n",
              "      <td>성북구</td>\n",
              "      <td>469243.02000</td>\n",
              "      <td>448371.16010</td>\n",
              "      <td>18446.62860</td>\n",
              "      <td>2425.23130</td>\n",
              "      <td>504288.05870</td>\n",
              "      <td>438023.86400</td>\n",
              "      <td>444779.46070</td>\n",
              "      <td>486716.99090</td>\n",
              "      <td>226138.30080</td>\n",
              "      <td>27578.37090</td>\n",
              "      <td>99137.54820</td>\n",
              "      <td>99422.38170</td>\n",
              "    </tr>\n",
              "    <tr>\n",
              "      <th>1102</th>\n",
              "      <td>20180405</td>\n",
              "      <td>11290</td>\n",
              "      <td>성북구</td>\n",
              "      <td>477444.98960</td>\n",
              "      <td>456751.59140</td>\n",
              "      <td>18606.79950</td>\n",
              "      <td>2086.59870</td>\n",
              "      <td>504658.32840</td>\n",
              "      <td>452980.94670</td>\n",
              "      <td>457112.66350</td>\n",
              "      <td>491968.07960</td>\n",
              "      <td>235078.93160</td>\n",
              "      <td>29719.85340</td>\n",
              "      <td>101150.79300</td>\n",
              "      <td>104208.28520</td>\n",
              "    </tr>\n",
              "  </tbody>\n",
              "</table>\n",
              "<p>1103 rows × 15 columns</p>\n",
              "</div>"
            ],
            "text/plain": [
              "            0      1     2   ...           12              13            14\n",
              "0        기준일ID  시군구코드  시군구명  ...     서울외유입인구수  동일자치구행정동간이동인구수     자치구간이동인구수\n",
              "1     20210425  11290   성북구  ...  20646.80240     91937.32060   55776.95080\n",
              "2     20210424  11290   성북구  ...  22332.52960     88407.36780   62452.17210\n",
              "3     20210423  11290   성북구  ...  22768.37600     93289.93880   76926.18900\n",
              "4     20210422  11290   성북구  ...  23795.99210     94515.73460   79166.29070\n",
              "...        ...    ...   ...  ...          ...             ...           ...\n",
              "1098  20180409  11290   성북구  ...  30769.73320    103022.83580  106705.06490\n",
              "1099  20180408  11290   성북구  ...  24703.28610     98189.04260   70396.93210\n",
              "1100  20180407  11290   성북구  ...  26331.93420     95319.36890   74564.74500\n",
              "1101  20180406  11290   성북구  ...  27578.37090     99137.54820   99422.38170\n",
              "1102  20180405  11290   성북구  ...  29719.85340    101150.79300  104208.28520\n",
              "\n",
              "[1103 rows x 15 columns]"
            ]
          },
          "metadata": {
            "tags": []
          },
          "execution_count": 8
        }
      ]
    },
    {
      "cell_type": "code",
      "metadata": {
        "id": "82EpgM1oxUh1"
      },
      "source": [
        "file=file.drop([2],axis=1)\n",
        "file=file.drop([0],axis=0)\n",
        "file.columns=['기준일ID', '시군구코드', '총생활인구수', '내국인생활인구수', '장기체류외국인인구수', '단기체류외국인인구수', '일최대인구수', '일최소인구수', '주간인구수', '야간인구수', '일최대이동인구수', '서울외유입인구수', '동일자치구행정동간이동인구수', '자치구간이동인구수']"
      ],
      "execution_count": null,
      "outputs": []
    },
    {
      "cell_type": "markdown",
      "metadata": {
        "id": "to4X9BmGHcVn"
      },
      "source": [
        "* 데이터프레임 file의 앞에 5줄 데이터 조회"
      ]
    },
    {
      "cell_type": "code",
      "metadata": {
        "id": "vHp-kJ5vmr-u",
        "colab": {
          "base_uri": "https://localhost:8080/"
        },
        "outputId": "ed7ef5ad-0e35-4e9f-b7d5-a8a3f105513d"
      },
      "source": [
        "print(file.head())"
      ],
      "execution_count": null,
      "outputs": [
        {
          "output_type": "stream",
          "text": [
            "      기준일ID  시군구코드        총생활인구수  ...     서울외유입인구수 동일자치구행정동간이동인구수    자치구간이동인구수\n",
            "1  20210425  11290  443639.45680  ...  20646.80240    91937.32060  55776.95080\n",
            "2  20210424  11290  437840.32410  ...  22332.52960    88407.36780  62452.17210\n",
            "3  20210423  11290  435185.36780  ...  22768.37600    93289.93880  76926.18900\n",
            "4  20210422  11290  438600.35210  ...  23795.99210    94515.73460  79166.29070\n",
            "5  20210421  11290  439620.82590  ...  24139.00400    95286.48550  80989.71480\n",
            "\n",
            "[5 rows x 14 columns]\n"
          ],
          "name": "stdout"
        }
      ]
    },
    {
      "cell_type": "markdown",
      "metadata": {
        "id": "mt_eg4AlI-2s"
      },
      "source": [
        "* 데이터프레임 file의 뒤에 5줄 데이터 조회"
      ]
    },
    {
      "cell_type": "code",
      "metadata": {
        "id": "3wcQvP_EI3Yc",
        "colab": {
          "base_uri": "https://localhost:8080/"
        },
        "outputId": "4ebb36cd-dc98-4bd6-afef-a6c139eceb3a"
      },
      "source": [
        "print(file.tail())"
      ],
      "execution_count": null,
      "outputs": [
        {
          "output_type": "stream",
          "text": [
            "         기준일ID  시군구코드        총생활인구수  ...     서울외유입인구수 동일자치구행정동간이동인구수     자치구간이동인구수\n",
            "1098  20180409  11290  476114.24590  ...  30769.73320   103022.83580  106705.06490\n",
            "1099  20180408  11290  477840.49290  ...  24703.28610    98189.04260   70396.93210\n",
            "1100  20180407  11290  466144.52940  ...  26331.93420    95319.36890   74564.74500\n",
            "1101  20180406  11290  469243.02000  ...  27578.37090    99137.54820   99422.38170\n",
            "1102  20180405  11290  477444.98960  ...  29719.85340   101150.79300  104208.28520\n",
            "\n",
            "[5 rows x 14 columns]\n"
          ],
          "name": "stdout"
        }
      ]
    },
    {
      "cell_type": "markdown",
      "metadata": {
        "id": "_qM7c0PCJsVB"
      },
      "source": [
        "* 데이터프레임 file의 앞에 10줄 데이터 조회"
      ]
    },
    {
      "cell_type": "code",
      "metadata": {
        "id": "Y6IqwzzbpA7K",
        "colab": {
          "base_uri": "https://localhost:8080/"
        },
        "outputId": "088ac44f-58c4-49bd-b9d0-4f60e8fca822"
      },
      "source": [
        "print(file.head(10))"
      ],
      "execution_count": null,
      "outputs": [
        {
          "output_type": "stream",
          "text": [
            "       기준일ID  시군구코드        총생활인구수  ...     서울외유입인구수 동일자치구행정동간이동인구수    자치구간이동인구수\n",
            "1   20210425  11290  443639.45680  ...  20646.80240    91937.32060  55776.95080\n",
            "2   20210424  11290  437840.32410  ...  22332.52960    88407.36780  62452.17210\n",
            "3   20210423  11290  435185.36780  ...  22768.37600    93289.93880  76926.18900\n",
            "4   20210422  11290  438600.35210  ...  23795.99210    94515.73460  79166.29070\n",
            "5   20210421  11290  439620.82590  ...  24139.00400    95286.48550  80989.71480\n",
            "6   20210420  11290  439129.50660  ...  23696.82220    95415.24410  80379.40850\n",
            "7   20210419  11290  439863.02470  ...  22334.97850    96001.37290  77991.72340\n",
            "8   20210418  11290  446964.27350  ...  19958.70620    92165.15530  57251.63430\n",
            "9   20210417  11290  443367.24500  ...  21767.26460    89067.68400  61809.37910\n",
            "10  20210416  11290  438868.27820  ...  21812.91260    93713.39440  76463.14590\n",
            "\n",
            "[10 rows x 14 columns]\n"
          ],
          "name": "stdout"
        }
      ]
    },
    {
      "cell_type": "markdown",
      "metadata": {
        "id": "_ElIsIPELSIS"
      },
      "source": [
        "#  데이터 요약정보 확인하기"
      ]
    },
    {
      "cell_type": "markdown",
      "metadata": {
        "id": "zXi9JehJLzzC"
      },
      "source": [
        "* 데이터프레임 모양과 크기 확인"
      ]
    },
    {
      "cell_type": "code",
      "metadata": {
        "id": "SDiypRdGpA1r",
        "colab": {
          "base_uri": "https://localhost:8080/"
        },
        "outputId": "b9ff170c-6552-4a12-87b0-fe5805c8e9ad"
      },
      "source": [
        "print(file.shape)"
      ],
      "execution_count": null,
      "outputs": [
        {
          "output_type": "stream",
          "text": [
            "(1102, 14)\n"
          ],
          "name": "stdout"
        }
      ]
    },
    {
      "cell_type": "markdown",
      "metadata": {
        "id": "veju4mmRMgmx"
      },
      "source": [
        "* 데이터프레임 기본정보 조회"
      ]
    },
    {
      "cell_type": "code",
      "metadata": {
        "id": "zoC3coUxpApz",
        "colab": {
          "base_uri": "https://localhost:8080/"
        },
        "outputId": "8796213f-355c-4300-ab7f-7f382d4ac77f"
      },
      "source": [
        "print(file.info())"
      ],
      "execution_count": null,
      "outputs": [
        {
          "output_type": "stream",
          "text": [
            "<class 'pandas.core.frame.DataFrame'>\n",
            "Int64Index: 1102 entries, 1 to 1102\n",
            "Data columns (total 14 columns):\n",
            " #   Column          Non-Null Count  Dtype \n",
            "---  ------          --------------  ----- \n",
            " 0   기준일ID           1102 non-null   object\n",
            " 1   시군구코드           1102 non-null   object\n",
            " 2   총생활인구수          1102 non-null   object\n",
            " 3   내국인생활인구수        1102 non-null   object\n",
            " 4   장기체류외국인인구수      1102 non-null   object\n",
            " 5   단기체류외국인인구수      1102 non-null   object\n",
            " 6   일최대인구수          1102 non-null   object\n",
            " 7   일최소인구수          1102 non-null   object\n",
            " 8   주간인구수           1102 non-null   object\n",
            " 9   야간인구수           1102 non-null   object\n",
            " 10  일최대이동인구수        1102 non-null   object\n",
            " 11  서울외유입인구수        1102 non-null   object\n",
            " 12  동일자치구행정동간이동인구수  1102 non-null   object\n",
            " 13  자치구간이동인구수       1102 non-null   object\n",
            "dtypes: object(14)\n",
            "memory usage: 169.1+ KB\n",
            "None\n"
          ],
          "name": "stdout"
        }
      ]
    },
    {
      "cell_type": "markdown",
      "metadata": {
        "id": "KW7fLJ8eMjKZ"
      },
      "source": [
        "* 데이터프레임의 각열의 자료형 확인"
      ]
    },
    {
      "cell_type": "code",
      "metadata": {
        "id": "l3h-3oZumPnM",
        "colab": {
          "base_uri": "https://localhost:8080/"
        },
        "outputId": "7f3278b2-c246-44c0-9526-07e43478d9bf"
      },
      "source": [
        "print(file.dtypes)"
      ],
      "execution_count": null,
      "outputs": [
        {
          "output_type": "stream",
          "text": [
            "기준일ID             object\n",
            "시군구코드             object\n",
            "총생활인구수            object\n",
            "내국인생활인구수          object\n",
            "장기체류외국인인구수        object\n",
            "단기체류외국인인구수        object\n",
            "일최대인구수            object\n",
            "일최소인구수            object\n",
            "주간인구수             object\n",
            "야간인구수             object\n",
            "일최대이동인구수          object\n",
            "서울외유입인구수          object\n",
            "동일자치구행정동간이동인구수    object\n",
            "자치구간이동인구수         object\n",
            "dtype: object\n"
          ],
          "name": "stdout"
        }
      ]
    },
    {
      "cell_type": "markdown",
      "metadata": {
        "id": "U56XiDtTMpCq"
      },
      "source": [
        "* '일최대이동인구수' 열에 대해 dtypes속성 적용"
      ]
    },
    {
      "cell_type": "code",
      "metadata": {
        "id": "julPwkbal-5w",
        "colab": {
          "base_uri": "https://localhost:8080/"
        },
        "outputId": "d4968991-7786-42f8-f70f-326c31b220a0"
      },
      "source": [
        "print(df.일최대이동인구수.dtypes)"
      ],
      "execution_count": null,
      "outputs": [
        {
          "output_type": "stream",
          "text": [
            "object\n"
          ],
          "name": "stdout"
        }
      ]
    },
    {
      "cell_type": "markdown",
      "metadata": {
        "id": "0Xcrr7uTNfdh"
      },
      "source": [
        "* 데이터프레임의 기술통계정보를 보여라"
      ]
    },
    {
      "cell_type": "code",
      "metadata": {
        "id": "2LSCJyXBrVKX",
        "colab": {
          "base_uri": "https://localhost:8080/"
        },
        "outputId": "45166188-2dde-4eba-eee1-b5ce35092e1f"
      },
      "source": [
        "print(file.describe())"
      ],
      "execution_count": null,
      "outputs": [
        {
          "output_type": "stream",
          "text": [
            "           기준일ID  시군구코드        총생활인구수  ...     서울외유입인구수 동일자치구행정동간이동인구수    자치구간이동인구수\n",
            "count       1102   1102          1102  ...         1102           1102         1102\n",
            "unique      1102      1          1102  ...         1102           1102         1102\n",
            "top     20200910  11290  432997.87920  ...  30248.63780    93975.58450  62524.02510\n",
            "freq           1   1102             1  ...            1              1            1\n",
            "\n",
            "[4 rows x 14 columns]\n"
          ],
          "name": "stdout"
        }
      ]
    },
    {
      "cell_type": "markdown",
      "metadata": {
        "id": "QL8TwDRqNk7Z"
      },
      "source": [
        "* 각 열의 데이터 개수 확인하는 코드 작성"
      ]
    },
    {
      "cell_type": "code",
      "metadata": {
        "id": "GxLGQaRIrqHo",
        "colab": {
          "base_uri": "https://localhost:8080/"
        },
        "outputId": "1d4c009e-1b62-445b-9217-bf760e16414e"
      },
      "source": [
        "print(file.count())"
      ],
      "execution_count": null,
      "outputs": [
        {
          "output_type": "stream",
          "text": [
            "기준일ID             1102\n",
            "시군구코드             1102\n",
            "총생활인구수            1102\n",
            "내국인생활인구수          1102\n",
            "장기체류외국인인구수        1102\n",
            "단기체류외국인인구수        1102\n",
            "일최대인구수            1102\n",
            "일최소인구수            1102\n",
            "주간인구수             1102\n",
            "야간인구수             1102\n",
            "일최대이동인구수          1102\n",
            "서울외유입인구수          1102\n",
            "동일자치구행정동간이동인구수    1102\n",
            "자치구간이동인구수         1102\n",
            "dtype: int64\n"
          ],
          "name": "stdout"
        }
      ]
    },
    {
      "cell_type": "markdown",
      "metadata": {
        "id": "8Qem1xthNpEp"
      },
      "source": [
        "* '일최대이동인구수'열의 고유값 개수 확인하는 코드 작성"
      ]
    },
    {
      "cell_type": "code",
      "metadata": {
        "id": "k9ZoiKLfrptY",
        "colab": {
          "base_uri": "https://localhost:8080/"
        },
        "outputId": "20e5723b-663c-4b4e-8abc-706afae84528"
      },
      "source": [
        "file['일최대이동인구수'].nunique()"
      ],
      "execution_count": null,
      "outputs": [
        {
          "output_type": "execute_result",
          "data": {
            "text/plain": [
              "1102"
            ]
          },
          "metadata": {
            "tags": []
          },
          "execution_count": 29
        }
      ]
    },
    {
      "cell_type": "markdown",
      "metadata": {
        "id": "xharyGBsOEqC"
      },
      "source": [
        "# 통계함수"
      ]
    },
    {
      "cell_type": "markdown",
      "metadata": {
        "id": "uzHCk1PuPF8K"
      },
      "source": [
        "* file데이터프레임의 평균값 계산해라"
      ]
    },
    {
      "cell_type": "code",
      "metadata": {
        "id": "ewQeK3lXtTUH",
        "colab": {
          "base_uri": "https://localhost:8080/"
        },
        "outputId": "b37c9e03-9dc2-4281-dc1f-219b96dfad2b"
      },
      "source": [
        "df=pd.DataFrame(file)\n",
        "df=df.astype(float)\n",
        "print(df.mean())"
      ],
      "execution_count": null,
      "outputs": [
        {
          "output_type": "stream",
          "text": [
            "기준일ID             2.019361e+07\n",
            "시군구코드             1.129000e+04\n",
            "총생활인구수            4.494037e+05\n",
            "내국인생활인구수          4.311108e+05\n",
            "장기체류외국인인구수        1.555597e+04\n",
            "단기체류외국인인구수        2.736974e+03\n",
            "일최대인구수            4.768937e+05\n",
            "일최소인구수            4.194113e+05\n",
            "주간인구수             4.268647e+05\n",
            "야간인구수             4.654147e+05\n",
            "일최대이동인구수          1.897678e+05\n",
            "서울외유입인구수          2.512069e+04\n",
            "동일자치구행정동간이동인구수    9.017110e+04\n",
            "자치구간이동인구수         7.447600e+04\n",
            "dtype: float64\n"
          ],
          "name": "stdout"
        }
      ]
    },
    {
      "cell_type": "markdown",
      "metadata": {
        "id": "R6gWiLgERaqi"
      },
      "source": [
        "* '일최대이동인구수'열의 평균을 계산해라"
      ]
    },
    {
      "cell_type": "code",
      "metadata": {
        "id": "EIUdDehpmrhn",
        "colab": {
          "base_uri": "https://localhost:8080/"
        },
        "outputId": "e1c34e31-c649-4226-89a7-e933b796c9ef"
      },
      "source": [
        "print(df['일최대이동인구수'].mean())"
      ],
      "execution_count": null,
      "outputs": [
        {
          "output_type": "stream",
          "text": [
            "189767.78237604344\n"
          ],
          "name": "stdout"
        }
      ]
    },
    {
      "cell_type": "markdown",
      "metadata": {
        "id": "FLrkrDZSSHSE"
      },
      "source": [
        "* file데이터프레임의 중간값을 확인해라"
      ]
    },
    {
      "cell_type": "code",
      "metadata": {
        "id": "LGghPWtIt3SD",
        "colab": {
          "base_uri": "https://localhost:8080/"
        },
        "outputId": "d10c2f72-e79b-41c5-f4e8-9c0c3b3f4424"
      },
      "source": [
        "print(df.median())"
      ],
      "execution_count": null,
      "outputs": [
        {
          "output_type": "stream",
          "text": [
            "기준일ID             2.019101e+07\n",
            "시군구코드             1.129000e+04\n",
            "총생활인구수            4.486198e+05\n",
            "내국인생활인구수          4.304522e+05\n",
            "장기체류외국인인구수        1.567238e+04\n",
            "단기체류외국인인구수        2.440120e+03\n",
            "일최대인구수            4.761578e+05\n",
            "일최소인구수            4.177012e+05\n",
            "주간인구수             4.253037e+05\n",
            "야간인구수             4.650200e+05\n",
            "일최대이동인구수          1.884541e+05\n",
            "서울외유입인구수          2.438078e+04\n",
            "동일자치구행정동간이동인구수    9.060589e+04\n",
            "자치구간이동인구수         7.385048e+04\n",
            "dtype: float64\n"
          ],
          "name": "stdout"
        }
      ]
    },
    {
      "cell_type": "markdown",
      "metadata": {
        "id": "PzaPAWphMqEo"
      },
      "source": [
        "* '일최대이동인구수'열의 중간값을 확인해라"
      ]
    },
    {
      "cell_type": "code",
      "metadata": {
        "id": "4b-MSmvSMqFL",
        "colab": {
          "base_uri": "https://localhost:8080/"
        },
        "outputId": "94cb9c3b-d000-4e5c-9d5d-d4c14fb4782f"
      },
      "source": [
        "print(df['일최대이동인구수'].median())"
      ],
      "execution_count": null,
      "outputs": [
        {
          "output_type": "stream",
          "text": [
            "188454.05404999998\n"
          ],
          "name": "stdout"
        }
      ]
    },
    {
      "cell_type": "markdown",
      "metadata": {
        "id": "vhu60hvjSLeb"
      },
      "source": [
        "* file데이터프레임의 최대값을 계산해라"
      ]
    },
    {
      "cell_type": "code",
      "metadata": {
        "id": "q4ykGVibMWSi",
        "colab": {
          "base_uri": "https://localhost:8080/"
        },
        "outputId": "3649c7ef-8c07-44ca-e74e-cfcaa9053ebc"
      },
      "source": [
        "print(df.max())"
      ],
      "execution_count": null,
      "outputs": [
        {
          "output_type": "stream",
          "text": [
            "기준일ID             2.021042e+07\n",
            "시군구코드             1.129000e+04\n",
            "총생활인구수            5.004634e+05\n",
            "내국인생활인구수          4.809744e+05\n",
            "장기체류외국인인구수        1.919045e+04\n",
            "단기체류외국인인구수        7.503387e+03\n",
            "일최대인구수            6.264549e+05\n",
            "일최소인구수            4.659571e+05\n",
            "주간인구수             4.758505e+05\n",
            "야간인구수             5.377383e+05\n",
            "일최대이동인구수          8.634689e+04\n",
            "서울외유입인구수          5.540911e+04\n",
            "동일자치구행정동간이동인구수    9.999650e+04\n",
            "자치구간이동인구수         9.984392e+04\n",
            "dtype: float64\n"
          ],
          "name": "stdout"
        }
      ]
    },
    {
      "cell_type": "markdown",
      "metadata": {
        "id": "fV6uu19zMvX0"
      },
      "source": [
        "* '일최대이동인구수'열의 최대값을 계산해라"
      ]
    },
    {
      "cell_type": "code",
      "metadata": {
        "id": "KWRSFv_DMvX2",
        "colab": {
          "base_uri": "https://localhost:8080/"
        },
        "outputId": "96950ce3-c13f-4bf9-80d9-ba98f7128626"
      },
      "source": [
        "print(df['일최대이동인구수'].max())"
      ],
      "execution_count": null,
      "outputs": [
        {
          "output_type": "stream",
          "text": [
            "86346.88760\n"
          ],
          "name": "stdout"
        }
      ]
    },
    {
      "cell_type": "markdown",
      "metadata": {
        "id": "kyBDJFiGMX3h"
      },
      "source": [
        "* file데이터프레임의 최솟값을 계산해라"
      ]
    },
    {
      "cell_type": "code",
      "metadata": {
        "id": "3WMN48m_MEAr",
        "colab": {
          "base_uri": "https://localhost:8080/"
        },
        "outputId": "74f4bb33-1fd6-406a-9344-3639d59318f1"
      },
      "source": [
        "print(df.min())"
      ],
      "execution_count": null,
      "outputs": [
        {
          "output_type": "stream",
          "text": [
            "기준일ID             2.018040e+07\n",
            "시군구코드             1.129000e+04\n",
            "총생활인구수            4.058767e+05\n",
            "내국인생활인구수          3.897026e+05\n",
            "장기체류외국인인구수        1.081888e+04\n",
            "단기체류외국인인구수        1.049794e+03\n",
            "일최대인구수            4.234127e+05\n",
            "일최소인구수            3.680632e+05\n",
            "주간인구수             3.755489e+05\n",
            "야간인구수             4.162432e+05\n",
            "일최대이동인구수          1.072240e+05\n",
            "서울외유입인구수          1.515896e+04\n",
            "동일자치구행정동간이동인구수    1.000372e+05\n",
            "자치구간이동인구수         1.000148e+05\n",
            "dtype: float64\n"
          ],
          "name": "stdout"
        }
      ]
    },
    {
      "cell_type": "markdown",
      "metadata": {
        "id": "1H0Z-LfjMzNK"
      },
      "source": [
        "* '일최대이동인구수'열의 최솟값을 계산해라"
      ]
    },
    {
      "cell_type": "code",
      "metadata": {
        "id": "SFi6-Ut8MzNN",
        "colab": {
          "base_uri": "https://localhost:8080/"
        },
        "outputId": "55ffee23-42e1-4ca2-d2ab-742a23d8eabf"
      },
      "source": [
        "print(df['일최대이동인구수'].min())"
      ],
      "execution_count": null,
      "outputs": [
        {
          "output_type": "stream",
          "text": [
            "107224.03310\n"
          ],
          "name": "stdout"
        }
      ]
    },
    {
      "cell_type": "markdown",
      "metadata": {
        "id": "p-2CkyUXM8he"
      },
      "source": [
        "* file데이터프레임의 표준편차를 계산해라"
      ]
    },
    {
      "cell_type": "code",
      "metadata": {
        "id": "qVc87VZMM8hg",
        "colab": {
          "base_uri": "https://localhost:8080/"
        },
        "outputId": "df27066b-0705-47b7-871e-158fddb8e106"
      },
      "source": [
        "print(df.std())"
      ],
      "execution_count": null,
      "outputs": [
        {
          "output_type": "stream",
          "text": [
            "기준일ID              9414.096299\n",
            "시군구코드                 0.000000\n",
            "총생활인구수            14008.605145\n",
            "내국인생활인구수          12998.571695\n",
            "장기체류외국인인구수         1683.981870\n",
            "단기체류외국인인구수          944.610050\n",
            "일최대인구수            15000.608760\n",
            "일최소인구수            16642.345130\n",
            "주간인구수             16402.525671\n",
            "야간인구수             13685.651941\n",
            "일최대이동인구수          19712.498982\n",
            "서울외유입인구수           4502.801248\n",
            "동일자치구행정동간이동인구수     5554.796026\n",
            "자치구간이동인구수         13214.268720\n",
            "dtype: float64\n"
          ],
          "name": "stdout"
        }
      ]
    },
    {
      "cell_type": "markdown",
      "metadata": {
        "id": "QZj4OZD_NEQ5"
      },
      "source": [
        "* '일최대이동인구수'열의 표준편차를 계산해라"
      ]
    },
    {
      "cell_type": "code",
      "metadata": {
        "id": "RW646EeRNEQ6",
        "colab": {
          "base_uri": "https://localhost:8080/"
        },
        "outputId": "f6e69f68-3ea4-4314-f932-8a6cfcfe9106"
      },
      "source": [
        "print(df['일최대이동인구수'].std())"
      ],
      "execution_count": null,
      "outputs": [
        {
          "output_type": "stream",
          "text": [
            "19712.49898194962\n"
          ],
          "name": "stdout"
        }
      ]
    },
    {
      "cell_type": "markdown",
      "metadata": {
        "id": "UxETcM-fNl-w"
      },
      "source": [
        "* '자치구간이동인구수''와 '일최대이동인구수'의 상관계수를 계산해라"
      ]
    },
    {
      "cell_type": "code",
      "metadata": {
        "id": "ZQMrrvhbNJ5Q"
      },
      "source": [
        "print(df['자치구간이동인구수','일최대이동인구수'].corr())"
      ],
      "execution_count": null,
      "outputs": []
    },
    {
      "cell_type": "markdown",
      "metadata": {
        "id": "4ktdw0WEO16Y"
      },
      "source": [
        "# Pandas 심화(2)\n",
        "* 판다스 내장 그래픽 활용\n",
        "* 중복 데이터 처리"
      ]
    },
    {
      "cell_type": "markdown",
      "metadata": {
        "id": "ocD9y6YrPACm"
      },
      "source": [
        "* matplotlib라이브러리호출 (mpl로 약칭)"
      ]
    },
    {
      "cell_type": "code",
      "metadata": {
        "id": "TNNVxVlRPACn"
      },
      "source": [
        "import matplotlib as mpl"
      ],
      "execution_count": null,
      "outputs": []
    },
    {
      "cell_type": "markdown",
      "metadata": {
        "id": "Wv7UR8SlPAOi"
      },
      "source": [
        "* matplotlib라이브러리의 pyplot함수 호출 (plt로 약칭)"
      ]
    },
    {
      "cell_type": "code",
      "metadata": {
        "id": "oo5xRwzXPAOj"
      },
      "source": [
        "import matplotlib.pyplot as plt"
      ],
      "execution_count": null,
      "outputs": []
    },
    {
      "cell_type": "code",
      "metadata": {
        "id": "60clgNFPj_XN"
      },
      "source": [
        "df=df.astype(float)\n",
        "data=file.iloc[:,4:]\n",
        "data1=data.astype(float)"
      ],
      "execution_count": null,
      "outputs": []
    },
    {
      "cell_type": "markdown",
      "metadata": {
        "id": "Wpb3hNdXyVrh"
      },
      "source": [
        "* data의 선그래프 그리기"
      ]
    },
    {
      "cell_type": "code",
      "metadata": {
        "id": "Kq7xBxPS-r4Y"
      },
      "source": [
        "import matplotlib.pyplot as plt\n",
        "fontpath = ''\n",
        "plt.rc('font', family='NanumBarunGothic')\n",
        "!sudo apt-get install -y fonts-nanum\n",
        "!sudo fc-cache -fv\n",
        "!rm ~/.cache/matplotlib -rf"
      ],
      "execution_count": null,
      "outputs": []
    },
    {
      "cell_type": "code",
      "metadata": {
        "id": "aJST_ZDnPAg_"
      },
      "source": [
        "%matplotlib inline\n",
        "plt.style.use('seaborn-whitegrid')\n",
        "fig=plt.figure()\n",
        "ax=plt.axes()\n",
        "fig.suptitle(\"Data\")"
      ],
      "execution_count": null,
      "outputs": []
    },
    {
      "cell_type": "code",
      "metadata": {
        "colab": {
          "base_uri": "https://localhost:8080/",
          "height": 1000
        },
        "id": "bPrndfUNAO5h",
        "outputId": "1af293e2-9a8a-4eef-857e-7449bca48c1c"
      },
      "source": [
        "data1.plot()"
      ],
      "execution_count": null,
      "outputs": [
        {
          "output_type": "execute_result",
          "data": {
            "text/plain": [
              "<matplotlib.axes._subplots.AxesSubplot at 0x7f7e053b4190>"
            ]
          },
          "metadata": {
            "tags": []
          },
          "execution_count": 120
        },
        {
          "output_type": "stream",
          "text": [
            "/usr/local/lib/python3.7/dist-packages/matplotlib/backends/backend_agg.py:214: RuntimeWarning: Glyph 51109 missing from current font.\n",
            "  font.set_text(s, 0.0, flags=flags)\n",
            "/usr/local/lib/python3.7/dist-packages/matplotlib/backends/backend_agg.py:214: RuntimeWarning: Glyph 44592 missing from current font.\n",
            "  font.set_text(s, 0.0, flags=flags)\n",
            "/usr/local/lib/python3.7/dist-packages/matplotlib/backends/backend_agg.py:214: RuntimeWarning: Glyph 52404 missing from current font.\n",
            "  font.set_text(s, 0.0, flags=flags)\n",
            "/usr/local/lib/python3.7/dist-packages/matplotlib/backends/backend_agg.py:214: RuntimeWarning: Glyph 47448 missing from current font.\n",
            "  font.set_text(s, 0.0, flags=flags)\n",
            "/usr/local/lib/python3.7/dist-packages/matplotlib/backends/backend_agg.py:214: RuntimeWarning: Glyph 50808 missing from current font.\n",
            "  font.set_text(s, 0.0, flags=flags)\n",
            "/usr/local/lib/python3.7/dist-packages/matplotlib/backends/backend_agg.py:214: RuntimeWarning: Glyph 44397 missing from current font.\n",
            "  font.set_text(s, 0.0, flags=flags)\n",
            "/usr/local/lib/python3.7/dist-packages/matplotlib/backends/backend_agg.py:214: RuntimeWarning: Glyph 51064 missing from current font.\n",
            "  font.set_text(s, 0.0, flags=flags)\n",
            "/usr/local/lib/python3.7/dist-packages/matplotlib/backends/backend_agg.py:214: RuntimeWarning: Glyph 44396 missing from current font.\n",
            "  font.set_text(s, 0.0, flags=flags)\n",
            "/usr/local/lib/python3.7/dist-packages/matplotlib/backends/backend_agg.py:214: RuntimeWarning: Glyph 49688 missing from current font.\n",
            "  font.set_text(s, 0.0, flags=flags)\n",
            "/usr/local/lib/python3.7/dist-packages/matplotlib/backends/backend_agg.py:214: RuntimeWarning: Glyph 45800 missing from current font.\n",
            "  font.set_text(s, 0.0, flags=flags)\n",
            "/usr/local/lib/python3.7/dist-packages/matplotlib/backends/backend_agg.py:214: RuntimeWarning: Glyph 51068 missing from current font.\n",
            "  font.set_text(s, 0.0, flags=flags)\n",
            "/usr/local/lib/python3.7/dist-packages/matplotlib/backends/backend_agg.py:214: RuntimeWarning: Glyph 52572 missing from current font.\n",
            "  font.set_text(s, 0.0, flags=flags)\n",
            "/usr/local/lib/python3.7/dist-packages/matplotlib/backends/backend_agg.py:214: RuntimeWarning: Glyph 45824 missing from current font.\n",
            "  font.set_text(s, 0.0, flags=flags)\n",
            "/usr/local/lib/python3.7/dist-packages/matplotlib/backends/backend_agg.py:214: RuntimeWarning: Glyph 49548 missing from current font.\n",
            "  font.set_text(s, 0.0, flags=flags)\n",
            "/usr/local/lib/python3.7/dist-packages/matplotlib/backends/backend_agg.py:214: RuntimeWarning: Glyph 51452 missing from current font.\n",
            "  font.set_text(s, 0.0, flags=flags)\n",
            "/usr/local/lib/python3.7/dist-packages/matplotlib/backends/backend_agg.py:214: RuntimeWarning: Glyph 44036 missing from current font.\n",
            "  font.set_text(s, 0.0, flags=flags)\n",
            "/usr/local/lib/python3.7/dist-packages/matplotlib/backends/backend_agg.py:214: RuntimeWarning: Glyph 50556 missing from current font.\n",
            "  font.set_text(s, 0.0, flags=flags)\n",
            "/usr/local/lib/python3.7/dist-packages/matplotlib/backends/backend_agg.py:214: RuntimeWarning: Glyph 51060 missing from current font.\n",
            "  font.set_text(s, 0.0, flags=flags)\n",
            "/usr/local/lib/python3.7/dist-packages/matplotlib/backends/backend_agg.py:214: RuntimeWarning: Glyph 46041 missing from current font.\n",
            "  font.set_text(s, 0.0, flags=flags)\n",
            "/usr/local/lib/python3.7/dist-packages/matplotlib/backends/backend_agg.py:214: RuntimeWarning: Glyph 49436 missing from current font.\n",
            "  font.set_text(s, 0.0, flags=flags)\n",
            "/usr/local/lib/python3.7/dist-packages/matplotlib/backends/backend_agg.py:214: RuntimeWarning: Glyph 50872 missing from current font.\n",
            "  font.set_text(s, 0.0, flags=flags)\n",
            "/usr/local/lib/python3.7/dist-packages/matplotlib/backends/backend_agg.py:214: RuntimeWarning: Glyph 50976 missing from current font.\n",
            "  font.set_text(s, 0.0, flags=flags)\n",
            "/usr/local/lib/python3.7/dist-packages/matplotlib/backends/backend_agg.py:214: RuntimeWarning: Glyph 51077 missing from current font.\n",
            "  font.set_text(s, 0.0, flags=flags)\n",
            "/usr/local/lib/python3.7/dist-packages/matplotlib/backends/backend_agg.py:214: RuntimeWarning: Glyph 51088 missing from current font.\n",
            "  font.set_text(s, 0.0, flags=flags)\n",
            "/usr/local/lib/python3.7/dist-packages/matplotlib/backends/backend_agg.py:214: RuntimeWarning: Glyph 52824 missing from current font.\n",
            "  font.set_text(s, 0.0, flags=flags)\n",
            "/usr/local/lib/python3.7/dist-packages/matplotlib/backends/backend_agg.py:214: RuntimeWarning: Glyph 54665 missing from current font.\n",
            "  font.set_text(s, 0.0, flags=flags)\n",
            "/usr/local/lib/python3.7/dist-packages/matplotlib/backends/backend_agg.py:214: RuntimeWarning: Glyph 51221 missing from current font.\n",
            "  font.set_text(s, 0.0, flags=flags)\n",
            "/usr/local/lib/python3.7/dist-packages/matplotlib/backends/backend_agg.py:183: RuntimeWarning: Glyph 51109 missing from current font.\n",
            "  font.set_text(s, 0, flags=flags)\n",
            "/usr/local/lib/python3.7/dist-packages/matplotlib/backends/backend_agg.py:183: RuntimeWarning: Glyph 44592 missing from current font.\n",
            "  font.set_text(s, 0, flags=flags)\n",
            "/usr/local/lib/python3.7/dist-packages/matplotlib/backends/backend_agg.py:183: RuntimeWarning: Glyph 52404 missing from current font.\n",
            "  font.set_text(s, 0, flags=flags)\n",
            "/usr/local/lib/python3.7/dist-packages/matplotlib/backends/backend_agg.py:183: RuntimeWarning: Glyph 47448 missing from current font.\n",
            "  font.set_text(s, 0, flags=flags)\n",
            "/usr/local/lib/python3.7/dist-packages/matplotlib/backends/backend_agg.py:183: RuntimeWarning: Glyph 50808 missing from current font.\n",
            "  font.set_text(s, 0, flags=flags)\n",
            "/usr/local/lib/python3.7/dist-packages/matplotlib/backends/backend_agg.py:183: RuntimeWarning: Glyph 44397 missing from current font.\n",
            "  font.set_text(s, 0, flags=flags)\n",
            "/usr/local/lib/python3.7/dist-packages/matplotlib/backends/backend_agg.py:183: RuntimeWarning: Glyph 51064 missing from current font.\n",
            "  font.set_text(s, 0, flags=flags)\n",
            "/usr/local/lib/python3.7/dist-packages/matplotlib/backends/backend_agg.py:183: RuntimeWarning: Glyph 44396 missing from current font.\n",
            "  font.set_text(s, 0, flags=flags)\n",
            "/usr/local/lib/python3.7/dist-packages/matplotlib/backends/backend_agg.py:183: RuntimeWarning: Glyph 49688 missing from current font.\n",
            "  font.set_text(s, 0, flags=flags)\n",
            "/usr/local/lib/python3.7/dist-packages/matplotlib/backends/backend_agg.py:183: RuntimeWarning: Glyph 45800 missing from current font.\n",
            "  font.set_text(s, 0, flags=flags)\n",
            "/usr/local/lib/python3.7/dist-packages/matplotlib/backends/backend_agg.py:183: RuntimeWarning: Glyph 51068 missing from current font.\n",
            "  font.set_text(s, 0, flags=flags)\n",
            "/usr/local/lib/python3.7/dist-packages/matplotlib/backends/backend_agg.py:183: RuntimeWarning: Glyph 52572 missing from current font.\n",
            "  font.set_text(s, 0, flags=flags)\n",
            "/usr/local/lib/python3.7/dist-packages/matplotlib/backends/backend_agg.py:183: RuntimeWarning: Glyph 45824 missing from current font.\n",
            "  font.set_text(s, 0, flags=flags)\n",
            "/usr/local/lib/python3.7/dist-packages/matplotlib/backends/backend_agg.py:183: RuntimeWarning: Glyph 49548 missing from current font.\n",
            "  font.set_text(s, 0, flags=flags)\n",
            "/usr/local/lib/python3.7/dist-packages/matplotlib/backends/backend_agg.py:183: RuntimeWarning: Glyph 51452 missing from current font.\n",
            "  font.set_text(s, 0, flags=flags)\n",
            "/usr/local/lib/python3.7/dist-packages/matplotlib/backends/backend_agg.py:183: RuntimeWarning: Glyph 44036 missing from current font.\n",
            "  font.set_text(s, 0, flags=flags)\n",
            "/usr/local/lib/python3.7/dist-packages/matplotlib/backends/backend_agg.py:183: RuntimeWarning: Glyph 50556 missing from current font.\n",
            "  font.set_text(s, 0, flags=flags)\n",
            "/usr/local/lib/python3.7/dist-packages/matplotlib/backends/backend_agg.py:183: RuntimeWarning: Glyph 51060 missing from current font.\n",
            "  font.set_text(s, 0, flags=flags)\n",
            "/usr/local/lib/python3.7/dist-packages/matplotlib/backends/backend_agg.py:183: RuntimeWarning: Glyph 46041 missing from current font.\n",
            "  font.set_text(s, 0, flags=flags)\n",
            "/usr/local/lib/python3.7/dist-packages/matplotlib/backends/backend_agg.py:183: RuntimeWarning: Glyph 49436 missing from current font.\n",
            "  font.set_text(s, 0, flags=flags)\n",
            "/usr/local/lib/python3.7/dist-packages/matplotlib/backends/backend_agg.py:183: RuntimeWarning: Glyph 50872 missing from current font.\n",
            "  font.set_text(s, 0, flags=flags)\n",
            "/usr/local/lib/python3.7/dist-packages/matplotlib/backends/backend_agg.py:183: RuntimeWarning: Glyph 50976 missing from current font.\n",
            "  font.set_text(s, 0, flags=flags)\n",
            "/usr/local/lib/python3.7/dist-packages/matplotlib/backends/backend_agg.py:183: RuntimeWarning: Glyph 51077 missing from current font.\n",
            "  font.set_text(s, 0, flags=flags)\n",
            "/usr/local/lib/python3.7/dist-packages/matplotlib/backends/backend_agg.py:183: RuntimeWarning: Glyph 51088 missing from current font.\n",
            "  font.set_text(s, 0, flags=flags)\n",
            "/usr/local/lib/python3.7/dist-packages/matplotlib/backends/backend_agg.py:183: RuntimeWarning: Glyph 52824 missing from current font.\n",
            "  font.set_text(s, 0, flags=flags)\n",
            "/usr/local/lib/python3.7/dist-packages/matplotlib/backends/backend_agg.py:183: RuntimeWarning: Glyph 54665 missing from current font.\n",
            "  font.set_text(s, 0, flags=flags)\n",
            "/usr/local/lib/python3.7/dist-packages/matplotlib/backends/backend_agg.py:183: RuntimeWarning: Glyph 51221 missing from current font.\n",
            "  font.set_text(s, 0, flags=flags)\n"
          ],
          "name": "stderr"
        },
        {
          "output_type": "display_data",
          "data": {
            "image/png": "[encoded data removed]",
            "text/plain": [
              "<Figure size 432x288 with 1 Axes>"
            ]
          },
          "metadata": {
            "tags": []
          }
        }
      ]
    },
    {
      "cell_type": "markdown",
      "metadata": {
        "id": "7pYEpd79RuUo"
      },
      "source": [
        "* data의 히스토그램 그리기"
      ]
    },
    {
      "cell_type": "code",
      "metadata": {
        "id": "aOE3ILt6O972",
        "colab": {
          "base_uri": "https://localhost:8080/",
          "height": 1000
        },
        "outputId": "3315016d-89c9-42c4-f1a9-443adbd46dbf"
      },
      "source": [
        "data1.hist()"
      ],
      "execution_count": null,
      "outputs": [
        {
          "output_type": "execute_result",
          "data": {
            "text/plain": [
              "array([[<matplotlib.axes._subplots.AxesSubplot object at 0x7f7e05c83210>,\n",
              "        <matplotlib.axes._subplots.AxesSubplot object at 0x7f7e050b4410>,\n",
              "        <matplotlib.axes._subplots.AxesSubplot object at 0x7f7e05c3a650>],\n",
              "       [<matplotlib.axes._subplots.AxesSubplot object at 0x7f7e055c7950>,\n",
              "        <matplotlib.axes._subplots.AxesSubplot object at 0x7f7e055ab090>,\n",
              "        <matplotlib.axes._subplots.AxesSubplot object at 0x7f7e05d3ad90>],\n",
              "       [<matplotlib.axes._subplots.AxesSubplot object at 0x7f7e05d11990>,\n",
              "        <matplotlib.axes._subplots.AxesSubplot object at 0x7f7e05596e10>,\n",
              "        <matplotlib.axes._subplots.AxesSubplot object at 0x7f7e05596e50>],\n",
              "       [<matplotlib.axes._subplots.AxesSubplot object at 0x7f7e04888610>,\n",
              "        <matplotlib.axes._subplots.AxesSubplot object at 0x7f7e047ff250>,\n",
              "        <matplotlib.axes._subplots.AxesSubplot object at 0x7f7e047b58d0>]],\n",
              "      dtype=object)"
            ]
          },
          "metadata": {
            "tags": []
          },
          "execution_count": 121
        },
        {
          "output_type": "stream",
          "text": [
            "/usr/local/lib/python3.7/dist-packages/matplotlib/backends/backend_agg.py:214: RuntimeWarning: Glyph 51109 missing from current font.\n",
            "  font.set_text(s, 0.0, flags=flags)\n",
            "/usr/local/lib/python3.7/dist-packages/matplotlib/backends/backend_agg.py:214: RuntimeWarning: Glyph 44592 missing from current font.\n",
            "  font.set_text(s, 0.0, flags=flags)\n",
            "/usr/local/lib/python3.7/dist-packages/matplotlib/backends/backend_agg.py:214: RuntimeWarning: Glyph 52404 missing from current font.\n",
            "  font.set_text(s, 0.0, flags=flags)\n",
            "/usr/local/lib/python3.7/dist-packages/matplotlib/backends/backend_agg.py:214: RuntimeWarning: Glyph 47448 missing from current font.\n",
            "  font.set_text(s, 0.0, flags=flags)\n",
            "/usr/local/lib/python3.7/dist-packages/matplotlib/backends/backend_agg.py:214: RuntimeWarning: Glyph 50808 missing from current font.\n",
            "  font.set_text(s, 0.0, flags=flags)\n",
            "/usr/local/lib/python3.7/dist-packages/matplotlib/backends/backend_agg.py:214: RuntimeWarning: Glyph 44397 missing from current font.\n",
            "  font.set_text(s, 0.0, flags=flags)\n",
            "/usr/local/lib/python3.7/dist-packages/matplotlib/backends/backend_agg.py:214: RuntimeWarning: Glyph 51064 missing from current font.\n",
            "  font.set_text(s, 0.0, flags=flags)\n",
            "/usr/local/lib/python3.7/dist-packages/matplotlib/backends/backend_agg.py:214: RuntimeWarning: Glyph 44396 missing from current font.\n",
            "  font.set_text(s, 0.0, flags=flags)\n",
            "/usr/local/lib/python3.7/dist-packages/matplotlib/backends/backend_agg.py:214: RuntimeWarning: Glyph 49688 missing from current font.\n",
            "  font.set_text(s, 0.0, flags=flags)\n",
            "/usr/local/lib/python3.7/dist-packages/matplotlib/backends/backend_agg.py:183: RuntimeWarning: Glyph 51109 missing from current font.\n",
            "  font.set_text(s, 0, flags=flags)\n",
            "/usr/local/lib/python3.7/dist-packages/matplotlib/backends/backend_agg.py:183: RuntimeWarning: Glyph 44592 missing from current font.\n",
            "  font.set_text(s, 0, flags=flags)\n",
            "/usr/local/lib/python3.7/dist-packages/matplotlib/backends/backend_agg.py:183: RuntimeWarning: Glyph 52404 missing from current font.\n",
            "  font.set_text(s, 0, flags=flags)\n",
            "/usr/local/lib/python3.7/dist-packages/matplotlib/backends/backend_agg.py:183: RuntimeWarning: Glyph 47448 missing from current font.\n",
            "  font.set_text(s, 0, flags=flags)\n",
            "/usr/local/lib/python3.7/dist-packages/matplotlib/backends/backend_agg.py:183: RuntimeWarning: Glyph 50808 missing from current font.\n",
            "  font.set_text(s, 0, flags=flags)\n",
            "/usr/local/lib/python3.7/dist-packages/matplotlib/backends/backend_agg.py:183: RuntimeWarning: Glyph 44397 missing from current font.\n",
            "  font.set_text(s, 0, flags=flags)\n",
            "/usr/local/lib/python3.7/dist-packages/matplotlib/backends/backend_agg.py:183: RuntimeWarning: Glyph 51064 missing from current font.\n",
            "  font.set_text(s, 0, flags=flags)\n",
            "/usr/local/lib/python3.7/dist-packages/matplotlib/backends/backend_agg.py:183: RuntimeWarning: Glyph 44396 missing from current font.\n",
            "  font.set_text(s, 0, flags=flags)\n",
            "/usr/local/lib/python3.7/dist-packages/matplotlib/backends/backend_agg.py:183: RuntimeWarning: Glyph 49688 missing from current font.\n",
            "  font.set_text(s, 0, flags=flags)\n",
            "/usr/local/lib/python3.7/dist-packages/matplotlib/backends/backend_agg.py:214: RuntimeWarning: Glyph 45800 missing from current font.\n",
            "  font.set_text(s, 0.0, flags=flags)\n",
            "/usr/local/lib/python3.7/dist-packages/matplotlib/backends/backend_agg.py:183: RuntimeWarning: Glyph 45800 missing from current font.\n",
            "  font.set_text(s, 0, flags=flags)\n",
            "/usr/local/lib/python3.7/dist-packages/matplotlib/backends/backend_agg.py:214: RuntimeWarning: Glyph 51068 missing from current font.\n",
            "  font.set_text(s, 0.0, flags=flags)\n",
            "/usr/local/lib/python3.7/dist-packages/matplotlib/backends/backend_agg.py:214: RuntimeWarning: Glyph 52572 missing from current font.\n",
            "  font.set_text(s, 0.0, flags=flags)\n",
            "/usr/local/lib/python3.7/dist-packages/matplotlib/backends/backend_agg.py:214: RuntimeWarning: Glyph 45824 missing from current font.\n",
            "  font.set_text(s, 0.0, flags=flags)\n",
            "/usr/local/lib/python3.7/dist-packages/matplotlib/backends/backend_agg.py:183: RuntimeWarning: Glyph 51068 missing from current font.\n",
            "  font.set_text(s, 0, flags=flags)\n",
            "/usr/local/lib/python3.7/dist-packages/matplotlib/backends/backend_agg.py:183: RuntimeWarning: Glyph 52572 missing from current font.\n",
            "  font.set_text(s, 0, flags=flags)\n",
            "/usr/local/lib/python3.7/dist-packages/matplotlib/backends/backend_agg.py:183: RuntimeWarning: Glyph 45824 missing from current font.\n",
            "  font.set_text(s, 0, flags=flags)\n",
            "/usr/local/lib/python3.7/dist-packages/matplotlib/backends/backend_agg.py:214: RuntimeWarning: Glyph 49548 missing from current font.\n",
            "  font.set_text(s, 0.0, flags=flags)\n",
            "/usr/local/lib/python3.7/dist-packages/matplotlib/backends/backend_agg.py:183: RuntimeWarning: Glyph 49548 missing from current font.\n",
            "  font.set_text(s, 0, flags=flags)\n",
            "/usr/local/lib/python3.7/dist-packages/matplotlib/backends/backend_agg.py:214: RuntimeWarning: Glyph 51452 missing from current font.\n",
            "  font.set_text(s, 0.0, flags=flags)\n",
            "/usr/local/lib/python3.7/dist-packages/matplotlib/backends/backend_agg.py:214: RuntimeWarning: Glyph 44036 missing from current font.\n",
            "  font.set_text(s, 0.0, flags=flags)\n",
            "/usr/local/lib/python3.7/dist-packages/matplotlib/backends/backend_agg.py:183: RuntimeWarning: Glyph 51452 missing from current font.\n",
            "  font.set_text(s, 0, flags=flags)\n",
            "/usr/local/lib/python3.7/dist-packages/matplotlib/backends/backend_agg.py:183: RuntimeWarning: Glyph 44036 missing from current font.\n",
            "  font.set_text(s, 0, flags=flags)\n",
            "/usr/local/lib/python3.7/dist-packages/matplotlib/backends/backend_agg.py:214: RuntimeWarning: Glyph 50556 missing from current font.\n",
            "  font.set_text(s, 0.0, flags=flags)\n",
            "/usr/local/lib/python3.7/dist-packages/matplotlib/backends/backend_agg.py:183: RuntimeWarning: Glyph 50556 missing from current font.\n",
            "  font.set_text(s, 0, flags=flags)\n",
            "/usr/local/lib/python3.7/dist-packages/matplotlib/backends/backend_agg.py:214: RuntimeWarning: Glyph 51060 missing from current font.\n",
            "  font.set_text(s, 0.0, flags=flags)\n",
            "/usr/local/lib/python3.7/dist-packages/matplotlib/backends/backend_agg.py:214: RuntimeWarning: Glyph 46041 missing from current font.\n",
            "  font.set_text(s, 0.0, flags=flags)\n",
            "/usr/local/lib/python3.7/dist-packages/matplotlib/backends/backend_agg.py:183: RuntimeWarning: Glyph 51060 missing from current font.\n",
            "  font.set_text(s, 0, flags=flags)\n",
            "/usr/local/lib/python3.7/dist-packages/matplotlib/backends/backend_agg.py:183: RuntimeWarning: Glyph 46041 missing from current font.\n",
            "  font.set_text(s, 0, flags=flags)\n",
            "/usr/local/lib/python3.7/dist-packages/matplotlib/backends/backend_agg.py:214: RuntimeWarning: Glyph 49436 missing from current font.\n",
            "  font.set_text(s, 0.0, flags=flags)\n",
            "/usr/local/lib/python3.7/dist-packages/matplotlib/backends/backend_agg.py:214: RuntimeWarning: Glyph 50872 missing from current font.\n",
            "  font.set_text(s, 0.0, flags=flags)\n",
            "/usr/local/lib/python3.7/dist-packages/matplotlib/backends/backend_agg.py:214: RuntimeWarning: Glyph 50976 missing from current font.\n",
            "  font.set_text(s, 0.0, flags=flags)\n",
            "/usr/local/lib/python3.7/dist-packages/matplotlib/backends/backend_agg.py:214: RuntimeWarning: Glyph 51077 missing from current font.\n",
            "  font.set_text(s, 0.0, flags=flags)\n",
            "/usr/local/lib/python3.7/dist-packages/matplotlib/backends/backend_agg.py:183: RuntimeWarning: Glyph 49436 missing from current font.\n",
            "  font.set_text(s, 0, flags=flags)\n",
            "/usr/local/lib/python3.7/dist-packages/matplotlib/backends/backend_agg.py:183: RuntimeWarning: Glyph 50872 missing from current font.\n",
            "  font.set_text(s, 0, flags=flags)\n",
            "/usr/local/lib/python3.7/dist-packages/matplotlib/backends/backend_agg.py:183: RuntimeWarning: Glyph 50976 missing from current font.\n",
            "  font.set_text(s, 0, flags=flags)\n",
            "/usr/local/lib/python3.7/dist-packages/matplotlib/backends/backend_agg.py:183: RuntimeWarning: Glyph 51077 missing from current font.\n",
            "  font.set_text(s, 0, flags=flags)\n",
            "/usr/local/lib/python3.7/dist-packages/matplotlib/backends/backend_agg.py:214: RuntimeWarning: Glyph 51088 missing from current font.\n",
            "  font.set_text(s, 0.0, flags=flags)\n",
            "/usr/local/lib/python3.7/dist-packages/matplotlib/backends/backend_agg.py:214: RuntimeWarning: Glyph 52824 missing from current font.\n",
            "  font.set_text(s, 0.0, flags=flags)\n",
            "/usr/local/lib/python3.7/dist-packages/matplotlib/backends/backend_agg.py:214: RuntimeWarning: Glyph 54665 missing from current font.\n",
            "  font.set_text(s, 0.0, flags=flags)\n",
            "/usr/local/lib/python3.7/dist-packages/matplotlib/backends/backend_agg.py:214: RuntimeWarning: Glyph 51221 missing from current font.\n",
            "  font.set_text(s, 0.0, flags=flags)\n",
            "/usr/local/lib/python3.7/dist-packages/matplotlib/backends/backend_agg.py:183: RuntimeWarning: Glyph 51088 missing from current font.\n",
            "  font.set_text(s, 0, flags=flags)\n",
            "/usr/local/lib/python3.7/dist-packages/matplotlib/backends/backend_agg.py:183: RuntimeWarning: Glyph 52824 missing from current font.\n",
            "  font.set_text(s, 0, flags=flags)\n",
            "/usr/local/lib/python3.7/dist-packages/matplotlib/backends/backend_agg.py:183: RuntimeWarning: Glyph 54665 missing from current font.\n",
            "  font.set_text(s, 0, flags=flags)\n",
            "/usr/local/lib/python3.7/dist-packages/matplotlib/backends/backend_agg.py:183: RuntimeWarning: Glyph 51221 missing from current font.\n",
            "  font.set_text(s, 0, flags=flags)\n"
          ],
          "name": "stderr"
        },
        {
          "output_type": "display_data",
          "data": {
            "image/png": "[encoded data removed]",
            "text/plain": [
              "<Figure size 432x288 with 12 Axes>"
            ]
          },
          "metadata": {
            "tags": []
          }
        }
      ]
    },
    {
      "cell_type": "markdown",
      "metadata": {
        "id": "nDIKKn_WRyrq"
      },
      "source": [
        "* data의 자치구간이동인구수와 일최대이동인구수 산점도 그리기"
      ]
    },
    {
      "cell_type": "code",
      "metadata": {
        "id": "90oqYbrbSEUC",
        "colab": {
          "base_uri": "https://localhost:8080/",
          "height": 280
        },
        "outputId": "c56c0f40-0823-4376-e90d-b1b798549cf0"
      },
      "source": [
        "x=np.linspace(0,10,25)\n",
        "plt.scatter(df['자치구간이동인구수'],df['일최대이동인구수'])"
      ],
      "execution_count": null,
      "outputs": [
        {
          "output_type": "execute_result",
          "data": {
            "text/plain": [
              "<matplotlib.collections.PathCollection at 0x7f7e043e0490>"
            ]
          },
          "metadata": {
            "tags": []
          },
          "execution_count": 128
        },
        {
          "output_type": "display_data",
          "data": {
            "image/png": "[encoded data removed]",
            "text/plain": [
              "<Figure size 432x288 with 1 Axes>"
            ]
          },
          "metadata": {
            "tags": []
          }
        }
      ]
    },
    {
      "cell_type": "markdown",
      "metadata": {
        "id": "DSlpbt-HSFAW"
      },
      "source": [
        "* data의 자치구간이동인구수와 일최대이동인구수 박스플롯 그리기"
      ]
    },
    {
      "cell_type": "code",
      "metadata": {
        "id": "zR_0hjz0SFcJ",
        "colab": {
          "base_uri": "https://localhost:8080/",
          "height": 407
        },
        "outputId": "6263c4cc-5157-4c99-f32d-7d1c6d3e89fc"
      },
      "source": [
        "plt.boxplot(df['자치구간이동인구수'])\n",
        "plt.boxplot(df['일최대이동인구수'])"
      ],
      "execution_count": null,
      "outputs": [
        {
          "output_type": "execute_result",
          "data": {
            "text/plain": [
              "{'boxes': [<matplotlib.lines.Line2D at 0x7f7e0415af10>],\n",
              " 'caps': [<matplotlib.lines.Line2D at 0x7f7e04167590>,\n",
              "  <matplotlib.lines.Line2D at 0x7f7e04126390>],\n",
              " 'fliers': [<matplotlib.lines.Line2D at 0x7f7e04126e10>],\n",
              " 'means': [],\n",
              " 'medians': [<matplotlib.lines.Line2D at 0x7f7e041268d0>],\n",
              " 'whiskers': [<matplotlib.lines.Line2D at 0x7f7e041679d0>,\n",
              "  <matplotlib.lines.Line2D at 0x7f7e041674d0>]}"
            ]
          },
          "metadata": {
            "tags": []
          },
          "execution_count": 133
        },
        {
          "output_type": "display_data",
          "data": {
            "image/png": "[encoded data removed]",
            "text/plain": [
              "<Figure size 432x288 with 1 Axes>"
            ]
          },
          "metadata": {
            "tags": []
          }
        }
      ]
    },
    {
      "cell_type": "markdown",
      "metadata": {
        "id": "DdJOyua5SGf4"
      },
      "source": [
        "* 위의 코드 결과 미세먼지와 초미세먼지중 평균이 높은것은?:(답은 여기에 작성)"
      ]
    },
    {
      "cell_type": "code",
      "metadata": {
        "id": "0OZLUmaJF0uQ"
      },
      "source": [
        "data3=pd.read_csv('/content/drive/MyDrive/일별평균대기오염도_2019.csv',header=None,encoding='euc-kr')\n",
        "df=pd.DataFrame(data3)\n",
        "df=df.astype(float)"
      ],
      "execution_count": null,
      "outputs": []
    },
    {
      "cell_type": "code",
      "metadata": {
        "colab": {
          "base_uri": "https://localhost:8080/"
        },
        "id": "DKvEyIikGf34",
        "outputId": "5d894b6d-3401-47f8-9cb2-2121ac8d43dc"
      },
      "source": [
        "print(df.mean())"
      ],
      "execution_count": null,
      "outputs": [
        {
          "output_type": "stream",
          "text": [
            "Series([], dtype: float64)\n"
          ],
          "name": "stdout"
        }
      ]
    },
    {
      "cell_type": "markdown",
      "metadata": {
        "id": "aTE4Osg1ScLT"
      },
      "source": [
        "# 중복 데이터 처리"
      ]
    },
    {
      "cell_type": "markdown",
      "metadata": {
        "id": "7GbJFXoBTnW_"
      },
      "source": [
        "* 다음 사진과 같이 데이터프레임을 생성해라\n",
        "\n",
        "![캡처.PNG](data:image/png;base64,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)"
      ]
    },
    {
      "cell_type": "code",
      "metadata": {
        "colab": {
          "base_uri": "https://localhost:8080/",
          "height": 198
        },
        "id": "dN72013lDz67",
        "outputId": "49963bc5-6053-44ca-b39f-574e839190cb"
      },
      "source": [
        "data={'A':['a','a','b','a','b'],\n",
        "      'B':['1','1','1','2','1'],\n",
        "      'C':['1','1','2','2','2']}\n",
        "df=pd.DataFrame(data)\n",
        "df"
      ],
      "execution_count": null,
      "outputs": [
        {
          "output_type": "execute_result",
          "data": {
            "text/html": [
              "<div>\n",
              "<style scoped>\n",
              "    .dataframe tbody tr th:only-of-type {\n",
              "        vertical-align: middle;\n",
              "    }\n",
              "\n",
              "    .dataframe tbody tr th {\n",
              "        vertical-align: top;\n",
              "    }\n",
              "\n",
              "    .dataframe thead th {\n",
              "        text-align: right;\n",
              "    }\n",
              "</style>\n",
              "<table border=\"1\" class=\"dataframe\">\n",
              "  <thead>\n",
              "    <tr style=\"text-align: right;\">\n",
              "      <th></th>\n",
              "      <th>A</th>\n",
              "      <th>B</th>\n",
              "      <th>C</th>\n",
              "    </tr>\n",
              "  </thead>\n",
              "  <tbody>\n",
              "    <tr>\n",
              "      <th>0</th>\n",
              "      <td>a</td>\n",
              "      <td>1</td>\n",
              "      <td>1</td>\n",
              "    </tr>\n",
              "    <tr>\n",
              "      <th>1</th>\n",
              "      <td>a</td>\n",
              "      <td>1</td>\n",
              "      <td>1</td>\n",
              "    </tr>\n",
              "    <tr>\n",
              "      <th>2</th>\n",
              "      <td>b</td>\n",
              "      <td>1</td>\n",
              "      <td>2</td>\n",
              "    </tr>\n",
              "    <tr>\n",
              "      <th>3</th>\n",
              "      <td>a</td>\n",
              "      <td>2</td>\n",
              "      <td>2</td>\n",
              "    </tr>\n",
              "    <tr>\n",
              "      <th>4</th>\n",
              "      <td>b</td>\n",
              "      <td>1</td>\n",
              "      <td>2</td>\n",
              "    </tr>\n",
              "  </tbody>\n",
              "</table>\n",
              "</div>"
            ],
            "text/plain": [
              "   A  B  C\n",
              "0  a  1  1\n",
              "1  a  1  1\n",
              "2  b  1  2\n",
              "3  a  2  2\n",
              "4  b  1  2"
            ]
          },
          "metadata": {
            "tags": []
          },
          "execution_count": 137
        }
      ]
    },
    {
      "cell_type": "markdown",
      "metadata": {
        "id": "JO2xGzO5SGoF"
      },
      "source": [
        "* 중복 데이터 확인해라(이전행과 현재행 비교)"
      ]
    },
    {
      "cell_type": "code",
      "metadata": {
        "id": "zwaIarOZSGoG",
        "colab": {
          "base_uri": "https://localhost:8080/"
        },
        "outputId": "40650701-0a86-4dd3-c64c-9b64ce7725f5"
      },
      "source": [
        "print(df.duplicated())"
      ],
      "execution_count": null,
      "outputs": [
        {
          "output_type": "stream",
          "text": [
            "0    False\n",
            "1     True\n",
            "2    False\n",
            "3    False\n",
            "4     True\n",
            "dtype: bool\n"
          ],
          "name": "stdout"
        }
      ]
    },
    {
      "cell_type": "markdown",
      "metadata": {
        "id": "1jqTsr73SGsE"
      },
      "source": [
        "* 중복 데이터를 삭제하고 고유한 값만을 가지 행들만 남겨라(원본에 저장)"
      ]
    },
    {
      "cell_type": "code",
      "metadata": {
        "id": "Z91xX3ENSGsF",
        "colab": {
          "base_uri": "https://localhost:8080/"
        },
        "outputId": "428c22d2-dce4-4011-e691-3a0f646d377a"
      },
      "source": [
        "df2=df.drop_duplicates()\n",
        "print(df2)\n",
        "df=df2"
      ],
      "execution_count": null,
      "outputs": [
        {
          "output_type": "stream",
          "text": [
            "   A  B  C\n",
            "0  a  1  1\n",
            "2  b  1  2\n",
            "3  a  2  2\n"
          ],
          "name": "stdout"
        }
      ]
    },
    {
      "cell_type": "markdown",
      "metadata": {
        "id": "6O7BePQBVXFe"
      },
      "source": [
        "* B열과 C열기준으로 중복 여부를 판단해라"
      ]
    },
    {
      "cell_type": "code",
      "metadata": {
        "id": "F8nBJKhvU0Gr",
        "colab": {
          "base_uri": "https://localhost:8080/"
        },
        "outputId": "808a78a8-7a0c-40e3-8ea8-3780fea0e566"
      },
      "source": [
        "df.duplicated(['B','C'])"
      ],
      "execution_count": null,
      "outputs": [
        {
          "output_type": "execute_result",
          "data": {
            "text/plain": [
              "0    False\n",
              "2    False\n",
              "3    False\n",
              "dtype: bool"
            ]
          },
          "metadata": {
            "tags": []
          },
          "execution_count": 145
        }
      ]
    }
  ]
}