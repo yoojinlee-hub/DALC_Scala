{
  "nbformat": 4,
  "nbformat_minor": 0,
  "metadata": {
    "colab": {
      "name": "Pandas_심화_KMOOC.ipynb",
      "provenance": [],
      "collapsed_sections": [],
      "mount_file_id": "1c3sMyNjGAf_16dhTwKdXhv3YH4gwQiUu",
      "authorship_tag": "ABX9TyOocBYjFeVFUHLI8Pxo5gCz",
      "include_colab_link": true
    },
    "kernelspec": {
      "name": "python3",
      "display_name": "Python 3"
    },
    "language_info": {
      "name": "python"
    }
  },
  "cells": [
    {
      "cell_type": "markdown",
      "metadata": {
        "id": "view-in-github",
        "colab_type": "text"
      },
      "source": [
        "<a href=\"https://colab.research.google.com/github/yoojinlee-hub/DALC_Scala/blob/main/Pandas_%EC%8B%AC%ED%99%94_KMOOC.ipynb\" target=\"_parent\"><img src=\"https://colab.research.google.com/assets/colab-badge.svg\" alt=\"Open In Colab\"/></a>"
      ]
    },
    {
      "cell_type": "markdown",
      "metadata": {
        "id": "2N0TIulC98Us"
      },
      "source": [
        "**Pandas 심화 실습**\n",
        "\n",
        "\n",
        "*   외부에서 파일 읽기\n",
        "*   외부에 파일을 쓰기\n",
        "\n",
        "*   데이터 프레임 구조\n",
        "*   통계 함수\n",
        "\n",
        "\n",
        "\n"
      ]
    },
    {
      "cell_type": "markdown",
      "metadata": {
        "id": "3kzVtR4N-OJa"
      },
      "source": [
        "*csv 파일*\n",
        "\n",
        "---\n",
        "\n",
        "\n",
        "텍스트 데이터 및 텍스트 파일\n",
        "각 열을 쉼표 혹은 공배개으로 구분.모든 행을 나열\n",
        "//파일 열기 read_csv\n",
        "//해당 파일을 읽어서 데이터 프레임으로 만듬"
      ]
    },
    {
      "cell_type": "code",
      "metadata": {
        "id": "e7J24uW7_LOq"
      },
      "source": [
        "to_csv()"
      ],
      "execution_count": null,
      "outputs": []
    },
    {
      "cell_type": "code",
      "metadata": {
        "id": "UfIr2lxX_1Na"
      },
      "source": [
        "import pandas as pd\n",
        "rc = pd.read_csv('/content/drive/MyDrive/일별평균대기오염도_2019.csv',header = None, encoding='euc-kr')"
      ],
      "execution_count": 19,
      "outputs": []
    },
    {
      "cell_type": "code",
      "metadata": {
        "colab": {
          "base_uri": "https://localhost:8080/"
        },
        "id": "rf9cbdk1CPYx",
        "outputId": "06da74d7-88f4-42fa-eab3-1c431581050c"
      },
      "source": [
        "print(rc.head())\n",
        "print('Wn')\n",
        "print(rc.tail())"
      ],
      "execution_count": 21,
      "outputs": [
        {
          "output_type": "stream",
          "text": [
            "          0     1             2  ...           5          6           7\n",
            "0      측정일시  측정소명  이산화질소농도(ppm)  ...  아황산가스(ppm)  미세먼지(㎍/㎥)  초미세먼지(㎍/㎥)\n",
            "1  20190101   강남구         0.028  ...       0.005         37          31\n",
            "2  20190101  강남대로         0.041  ...       0.004         40          28\n",
            "3  20190101   강동구          0.04  ...       0.005         43          32\n",
            "4  20190101  강변북로         0.048  ...       0.005         45          27\n",
            "\n",
            "[5 rows x 8 columns]\n",
            "Wn\n",
            "              0     1      2      3    4      5   6   7\n",
            "17071  20191231  청계천로  0.016  0.023  0.4  0.003  24  17\n",
            "17072  20191231  한강대로   0.02  0.018  0.4  0.003  27  12\n",
            "17073  20191231    행주  0.007  0.028  0.6  0.004  27  13\n",
            "17074  20191231   홍릉로  0.025  0.018  0.5  0.004  27  16\n",
            "17075  20191231   화랑로  0.019   0.02  0.2  0.004  20  13\n"
          ],
          "name": "stdout"
        }
      ]
    },
    {
      "cell_type": "markdown",
      "metadata": {
        "id": "U8XOt9TDCfux"
      },
      "source": [
        "head()함수,tail()함수: 기본값 5, 데이터프레임의 일부 행을 반환"
      ]
    },
    {
      "cell_type": "markdown",
      "metadata": {
        "id": "om7nTrF6CrDC"
      },
      "source": [
        "데이터프레임:행의 개수,열의 개수를 튜플로 반환"
      ]
    },
    {
      "cell_type": "code",
      "metadata": {
        "colab": {
          "base_uri": "https://localhost:8080/"
        },
        "id": "pdDYIAykCx8i",
        "outputId": "6e2689b6-18c1-402a-fea1-167f1e1531d9"
      },
      "source": [
        "print(rc.shape)"
      ],
      "execution_count": 23,
      "outputs": [
        {
          "output_type": "stream",
          "text": [
            "(17076, 8)\n"
          ],
          "name": "stdout"
        }
      ]
    },
    {
      "cell_type": "markdown",
      "metadata": {
        "id": "CZ9XdvDdC7ML"
      },
      "source": [
        "info() 데이터 프레임의 기본정보"
      ]
    },
    {
      "cell_type": "code",
      "metadata": {
        "colab": {
          "base_uri": "https://localhost:8080/"
        },
        "id": "2J9bFzGPC_wV",
        "outputId": "2bf0377e-6126-4ce3-aeff-d717f97fe1ef"
      },
      "source": [
        "print(rc.info())"
      ],
      "execution_count": 24,
      "outputs": [
        {
          "output_type": "stream",
          "text": [
            "<class 'pandas.core.frame.DataFrame'>\n",
            "RangeIndex: 17076 entries, 0 to 17075\n",
            "Data columns (total 8 columns):\n",
            " #   Column  Non-Null Count  Dtype \n",
            "---  ------  --------------  ----- \n",
            " 0   0       17076 non-null  object\n",
            " 1   1       17076 non-null  object\n",
            " 2   2       16602 non-null  object\n",
            " 3   3       16674 non-null  object\n",
            " 4   4       16586 non-null  object\n",
            " 5   5       16608 non-null  object\n",
            " 6   6       16489 non-null  object\n",
            " 7   7       16493 non-null  object\n",
            "dtypes: object(8)\n",
            "memory usage: 1.0+ MB\n",
            "None\n"
          ],
          "name": "stdout"
        }
      ]
    },
    {
      "cell_type": "code",
      "metadata": {
        "colab": {
          "base_uri": "https://localhost:8080/"
        },
        "id": "ZdevagQYDQFC",
        "outputId": "25da6ced-c13d-4dbd-ca09-f4e278abcdcb"
      },
      "source": [
        "print(rc.dtypes)"
      ],
      "execution_count": 25,
      "outputs": [
        {
          "output_type": "stream",
          "text": [
            "0    object\n",
            "1    object\n",
            "2    object\n",
            "3    object\n",
            "4    object\n",
            "5    object\n",
            "6    object\n",
            "7    object\n",
            "dtype: object\n"
          ],
          "name": "stdout"
        }
      ]
    },
    {
      "cell_type": "markdown",
      "metadata": {
        "id": "gojxH21oDbVi"
      },
      "source": [
        "describe(): 숫자 데이터를 갖는 열에 대해 주요 통계 정보 요약 출력"
      ]
    },
    {
      "cell_type": "code",
      "metadata": {
        "colab": {
          "base_uri": "https://localhost:8080/"
        },
        "id": "pdW31cbGDhCq",
        "outputId": "a5c2a5a0-1512-464f-b708-29722de6d532"
      },
      "source": [
        "print(rc.describe())"
      ],
      "execution_count": 27,
      "outputs": [
        {
          "output_type": "stream",
          "text": [
            "               0      1      2      3      4      5      6      7\n",
            "count      17076  17076  16602  16674  16586  16608  16489  16493\n",
            "unique       357     51    108     91     35     18    206    153\n",
            "top     20190609    동작구  0.021   0.02    0.4  0.004     26     20\n",
            "freq          50    356    443    498   3272   5509    403    654\n"
          ],
          "name": "stdout"
        }
      ]
    },
    {
      "cell_type": "markdown",
      "metadata": {
        "id": "PO7we2GvDsrT"
      },
      "source": [
        "count() 데이터 프레임의 각 열이 갖고 있는 요소 개수를 시리즈 객체로 반환"
      ]
    },
    {
      "cell_type": "code",
      "metadata": {
        "colab": {
          "base_uri": "https://localhost:8080/"
        },
        "id": "Khgk-lp6Dxy0",
        "outputId": "8c4381d1-ab69-4012-978c-4d618a419c38"
      },
      "source": [
        "print(rc.count())"
      ],
      "execution_count": 28,
      "outputs": [
        {
          "output_type": "stream",
          "text": [
            "0    17076\n",
            "1    17076\n",
            "2    16602\n",
            "3    16674\n",
            "4    16586\n",
            "5    16608\n",
            "6    16489\n",
            "7    16493\n",
            "dtype: int64\n"
          ],
          "name": "stdout"
        }
      ]
    },
    {
      "cell_type": "markdown",
      "metadata": {
        "id": "E5yGehiGD2bi"
      },
      "source": [
        "value_counts() 고유값은 행 인덱스, 고유값의 개수는 데이터 값이 되는 시리즈 객체 생성 "
      ]
    },
    {
      "cell_type": "markdown",
      "metadata": {
        "id": "m6jqcaNyEXQ7"
      },
      "source": [
        "mean() 산술데이터를 갖는 모든 열의 평균값 계산"
      ]
    },
    {
      "cell_type": "code",
      "metadata": {
        "colab": {
          "base_uri": "https://localhost:8080/"
        },
        "id": "6PvnKU1WEcei",
        "outputId": "bdf09125-3424-461c-95b4-9b27bbc775a7"
      },
      "source": [
        "print(rc.mean())"
      ],
      "execution_count": 35,
      "outputs": [
        {
          "output_type": "stream",
          "text": [
            "Series([], dtype: float64)\n"
          ],
          "name": "stdout"
        }
      ]
    },
    {
      "cell_type": "code",
      "metadata": {
        "id": "YNpUfN8UEqjc"
      },
      "source": [
        "print(rc[1],mean())"
      ],
      "execution_count": null,
      "outputs": []
    },
    {
      "cell_type": "markdown",
      "metadata": {
        "id": "9X8yjvJ6Exei"
      },
      "source": [
        "median() 중간값 계산"
      ]
    },
    {
      "cell_type": "markdown",
      "metadata": {
        "id": "J-u2JSjTE4VK"
      },
      "source": [
        "max() 최대값 계산\n",
        "*print(rc.max())*"
      ]
    },
    {
      "cell_type": "markdown",
      "metadata": {
        "id": "09XgU2yMFCch"
      },
      "source": [
        "min() 각 열이 갖는 데이터 값 중에서 최소값 계산"
      ]
    },
    {
      "cell_type": "markdown",
      "metadata": {
        "id": "AQJX4tonFMFq"
      },
      "source": [
        "std() 표준편차 계산"
      ]
    },
    {
      "cell_type": "code",
      "metadata": {
        "colab": {
          "base_uri": "https://localhost:8080/"
        },
        "id": "m-Ey9lGTFO_L",
        "outputId": "beea0f81-d9a7-4cb6-cfe5-ea78a1f69fdd"
      },
      "source": [
        "import pandas as pd\n",
        "rc = pd.read_csv('/content/drive/MyDrive/일별평균대기오염도_2019.csv',header = None, encoding='euc-kr')\n",
        "print(rc.std())"
      ],
      "execution_count": 39,
      "outputs": [
        {
          "output_type": "stream",
          "text": [
            "Series([], dtype: float64)\n"
          ],
          "name": "stdout"
        }
      ]
    },
    {
      "cell_type": "markdown",
      "metadata": {
        "id": "OxOtYz22FauC"
      },
      "source": [
        "corr() 모든 열의 대해 2개씩 짝을 짓고 각 경우의 상관계수 계산"
      ]
    },
    {
      "cell_type": "markdown",
      "metadata": {
        "id": "AlYGD9eQF3ms"
      },
      "source": [
        "\n",
        "\n",
        "---\n",
        "\n",
        "*   내장 그래픽 활용\n",
        "*   중복 데이터 처리\n",
        "\n",
        "\n",
        "\n"
      ]
    },
    {
      "cell_type": "markdown",
      "metadata": {
        "id": "6_Cg0IZ9F_Pi"
      },
      "source": [
        "데이터 시각화 : Matplotlib 라이브러리"
      ]
    },
    {
      "cell_type": "markdown",
      "metadata": {
        "id": "xe8nfOyqGPWD"
      },
      "source": [
        "plot() 시각화 내장 함수 이용\n",
        "\n",
        "\n",
        "*   line 선 그래프\n",
        "*   bar 수직막대그래프 b_data.plot(kind='bar')\n",
        "\n"
      ]
    },
    {
      "cell_type": "markdown",
      "metadata": {
        "id": "6oZnkQOPGYyi"
      },
      "source": [
        "한글 폰트를 설치해야함"
      ]
    },
    {
      "cell_type": "code",
      "metadata": {
        "id": "kfEdKwoJGbas"
      },
      "source": [
        "lapt -qq -y install fonts-nanum"
      ],
      "execution_count": null,
      "outputs": []
    },
    {
      "cell_type": "code",
      "metadata": {
        "id": "xBQrGx6yGpOU"
      },
      "source": [
        "import matplotlib as plt\n",
        "import matplotlib.pyplot as plt\n",
        "import matplotlib.font_manager as fn\n",
        "fontpath = ''\n",
        "font = fm.FontProperties(fname=fontpath,size=9)\n",
        "plt.rc('font',family=\"NanumBarunGothic\")\n",
        "mpl.font_manager._rebuild()"
      ],
      "execution_count": null,
      "outputs": []
    },
    {
      "cell_type": "code",
      "metadata": {
        "id": "8Qd13ZDcHmLc"
      },
      "source": [
        "import pandas as pd\n",
        "import matplotlib as plt\n",
        "data = pd.read_csv('/content/drive/MyDrive/일별평균대기오염도_2019.csv', header=None, encoding='euc-kr')\n",
        "data.columns=['측정일시','이산화질소농도','오존농도','아황산가스','미세먼지','초미세먼지','기타','비고']\n",
        "p_data = data_iloc[:, 5:]\n",
        "p_data.plot()"
      ],
      "execution_count": null,
      "outputs": []
    },
    {
      "cell_type": "markdown",
      "metadata": {
        "id": "-Sv6fAL6Jpw6"
      },
      "source": [
        "kind='hist' 히스토그램\n",
        "kind='scatter' 산점도 그래프"
      ]
    },
    {
      "cell_type": "markdown",
      "metadata": {
        "id": "0K8igmT7KKge"
      },
      "source": [
        "kind='box' 박스플롯, 특정 변수의 데이터 분포와 분산 정도에 관한 정보 제공"
      ]
    },
    {
      "cell_type": "markdown",
      "metadata": {
        "id": "G4Jqh9hfKcx6"
      },
      "source": [
        "\n",
        "\n",
        "---\n",
        "중복데이터 처리\n",
        "\n",
        "\n",
        "\n",
        "*   duplicated() 중복데이터가 있는지 확인\n",
        "\n",
        "\n",
        "\n",
        "\n"
      ]
    },
    {
      "cell_type": "code",
      "metadata": {
        "colab": {
          "base_uri": "https://localhost:8080/"
        },
        "id": "qjmuNll0KnYi",
        "outputId": "298ce44b-a2b2-4212-f7b8-78f8b5556219"
      },
      "source": [
        "dataSet = pd.DataFrame({'c1':['a','a','b','a','b'],\n",
        "                        'c2':[1,1,1,2,1],\n",
        "                        'c3':[1,1,2,2,2]})\n",
        "dataSet_dup = dataSet.duplicated()\n",
        "print(dataSet_dup)"
      ],
      "execution_count": 3,
      "outputs": [
        {
          "output_type": "stream",
          "text": [
            "0    False\n",
            "1     True\n",
            "2    False\n",
            "3    False\n",
            "4     True\n",
            "dtype: bool\n"
          ],
          "name": "stdout"
        }
      ]
    },
    {
      "cell_type": "code",
      "metadata": {
        "colab": {
          "base_uri": "https://localhost:8080/"
        },
        "id": "SX9HlW2VLWNS",
        "outputId": "5aa11373-8d5c-41c0-b03f-83e1e06a6ffb"
      },
      "source": [
        "c3_dup = dataSet['c3'].duplicated()\n",
        "print(c3_dup)"
      ],
      "execution_count": 4,
      "outputs": [
        {
          "output_type": "stream",
          "text": [
            "0    False\n",
            "1     True\n",
            "2    False\n",
            "3     True\n",
            "4     True\n",
            "Name: c3, dtype: bool\n"
          ],
          "name": "stdout"
        }
      ]
    }
  ]
}